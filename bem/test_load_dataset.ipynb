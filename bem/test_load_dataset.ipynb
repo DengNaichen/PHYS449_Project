{
 "cells": [
  {
   "cell_type": "code",
   "execution_count": 1,
   "id": "initial_id",
   "metadata": {
    "collapsed": true,
    "ExecuteTime": {
     "end_time": "2023-11-09T03:17:49.412480Z",
     "start_time": "2023-11-09T03:17:46.508475Z"
    }
   },
   "outputs": [],
   "source": [
    "import load_dataset as ld\n",
    "from sklearn.model_selection import train_test_split"
   ]
  },
  {
   "cell_type": "code",
   "execution_count": 65,
   "outputs": [],
   "source": [
    "exoplanet_path = '../published_output/exoplanet.eu_catalog_15April.csv'\n",
    "solar_path = '../published_output/solar_system_planets_catalog.csv'\n",
    "features = ['mass', 'semi_major_axis','eccentricity', 'star_metallicity',\n",
    "                'star_radius', 'star_teff','star_mass', 'radius']\n",
    "\n",
    "dataset = ld.load_dataset(exoplanet_path, solar_path, features, solar=True)"
   ],
   "metadata": {
    "collapsed": false,
    "ExecuteTime": {
     "end_time": "2023-11-09T03:40:28.716679Z",
     "start_time": "2023-11-09T03:40:28.591129Z"
    }
   },
   "id": "cbb731e99b83d9d2"
  },
  {
   "cell_type": "code",
   "execution_count": 66,
   "outputs": [
    {
     "data": {
      "text/plain": "(509, 10)"
     },
     "execution_count": 66,
     "metadata": {},
     "output_type": "execute_result"
    }
   ],
   "source": [
    "dataset.shape"
   ],
   "metadata": {
    "collapsed": false,
    "ExecuteTime": {
     "end_time": "2023-11-09T03:40:29.215867Z",
     "start_time": "2023-11-09T03:40:29.208850Z"
    }
   },
   "id": "263e27afaf467ade"
  },
  {
   "cell_type": "code",
   "execution_count": 67,
   "outputs": [
    {
     "name": "stdout",
     "output_type": "stream",
     "text": [
      "(501, 10)\n",
      "(8, 10)\n"
     ]
    }
   ],
   "source": [
    "dataset_exo = dataset[:-8]\n",
    "dataset_solar = dataset[-8:]\n",
    "print(dataset_exo.shape)\n",
    "print(dataset_solar.shape)"
   ],
   "metadata": {
    "collapsed": false,
    "ExecuteTime": {
     "end_time": "2023-11-09T03:40:29.743564Z",
     "start_time": "2023-11-09T03:40:29.739882Z"
    }
   },
   "id": "b2715c3430c69d4c"
  },
  {
   "cell_type": "code",
   "execution_count": 68,
   "outputs": [
    {
     "data": {
      "text/plain": "pandas.core.frame.DataFrame"
     },
     "execution_count": 68,
     "metadata": {},
     "output_type": "execute_result"
    }
   ],
   "source": [
    "features = dataset_exo.drop('radius', axis=1).copy()   # mass, teq, etc\n",
    "labels = dataset_exo[['radius']].copy()   # radius\n",
    "type(labels)"
   ],
   "metadata": {
    "collapsed": false,
    "ExecuteTime": {
     "end_time": "2023-11-09T03:40:30.409098Z",
     "start_time": "2023-11-09T03:40:30.401186Z"
    }
   },
   "id": "dc6296e92903b0b5"
  },
  {
   "cell_type": "code",
   "execution_count": 49,
   "outputs": [],
   "source": [
    "features = dataset_exo.iloc[:, :-1]   # mass, teq, etc\n",
    "labels = dataset_exo.iloc[:, -1]      # radius"
   ],
   "metadata": {
    "collapsed": false,
    "ExecuteTime": {
     "end_time": "2023-11-09T03:32:37.910433Z",
     "start_time": "2023-11-09T03:32:37.898825Z"
    }
   },
   "id": "60455f867341089f"
  },
  {
   "cell_type": "code",
   "execution_count": 50,
   "outputs": [
    {
     "data": {
      "text/plain": "                     mass  semi_major_axis  star_luminosity      temp_eq  \\\n51 Peg b       149.379351         0.052000         1.620586  1378.334390   \n55 Cnc e         8.590902         0.015439         0.628520  1996.404187   \nBD+20 594 b     16.304597         0.241000         0.854644   545.598795   \nBD-10 3166 b   146.201067         0.046000         2.232327  1587.640134   \nCoRoT-1 b      327.363259         0.025400         1.740392  2007.615709   \n...                   ...              ...              ...          ...   \nXO-4 b         513.610705         0.054850         2.276949  1461.119331   \nXO-5 b         342.301194         0.048700         0.929841  1239.576541   \nXO-6 b         603.873973         0.081500         6.819966  1576.893711   \nkappa And b   4131.769286       100.000000        78.438221    89.879687   \ntau Boo b     1856.117895         0.046000         2.519932  1637.725904   \n\n              eccentricity  star_metallicity  star_radius  star_teff  \\\n51 Peg b            0.0069              0.20        1.266     5793.0   \n55 Cnc e            0.0280              0.31        0.980     5196.0   \nBD+20 594 b         0.0000             -0.15        0.928     5766.0   \nBD-10 3166 b        0.0104              0.50        1.710     5400.0   \nCoRoT-1 b           0.0000              0.06        1.110     6298.0   \n...                    ...               ...          ...        ...   \nXO-4 b              0.0000             -0.04        1.550     5700.0   \nXO-5 b              0.0000              0.18        1.060     5510.0   \nXO-6 b              0.0000             -0.07        1.930     6720.0   \nkappa And b         0.6900             -0.36        2.290    11361.0   \ntau Boo b           0.0787              0.28        1.331     6309.0   \n\n              star_mass  \n51 Peg b          1.110  \n55 Cnc e          1.015  \nBD+20 594 b       0.961  \nBD-10 3166 b      0.990  \nCoRoT-1 b         0.950  \n...                 ...  \nXO-4 b            1.320  \nXO-5 b            0.880  \nXO-6 b            1.470  \nkappa And b       2.800  \ntau Boo b         1.300  \n\n[501 rows x 9 columns]",
      "text/html": "<div>\n<style scoped>\n    .dataframe tbody tr th:only-of-type {\n        vertical-align: middle;\n    }\n\n    .dataframe tbody tr th {\n        vertical-align: top;\n    }\n\n    .dataframe thead th {\n        text-align: right;\n    }\n</style>\n<table border=\"1\" class=\"dataframe\">\n  <thead>\n    <tr style=\"text-align: right;\">\n      <th></th>\n      <th>mass</th>\n      <th>semi_major_axis</th>\n      <th>star_luminosity</th>\n      <th>temp_eq</th>\n      <th>eccentricity</th>\n      <th>star_metallicity</th>\n      <th>star_radius</th>\n      <th>star_teff</th>\n      <th>star_mass</th>\n    </tr>\n  </thead>\n  <tbody>\n    <tr>\n      <th>51 Peg b</th>\n      <td>149.379351</td>\n      <td>0.052000</td>\n      <td>1.620586</td>\n      <td>1378.334390</td>\n      <td>0.0069</td>\n      <td>0.20</td>\n      <td>1.266</td>\n      <td>5793.0</td>\n      <td>1.110</td>\n    </tr>\n    <tr>\n      <th>55 Cnc e</th>\n      <td>8.590902</td>\n      <td>0.015439</td>\n      <td>0.628520</td>\n      <td>1996.404187</td>\n      <td>0.0280</td>\n      <td>0.31</td>\n      <td>0.980</td>\n      <td>5196.0</td>\n      <td>1.015</td>\n    </tr>\n    <tr>\n      <th>BD+20 594 b</th>\n      <td>16.304597</td>\n      <td>0.241000</td>\n      <td>0.854644</td>\n      <td>545.598795</td>\n      <td>0.0000</td>\n      <td>-0.15</td>\n      <td>0.928</td>\n      <td>5766.0</td>\n      <td>0.961</td>\n    </tr>\n    <tr>\n      <th>BD-10 3166 b</th>\n      <td>146.201067</td>\n      <td>0.046000</td>\n      <td>2.232327</td>\n      <td>1587.640134</td>\n      <td>0.0104</td>\n      <td>0.50</td>\n      <td>1.710</td>\n      <td>5400.0</td>\n      <td>0.990</td>\n    </tr>\n    <tr>\n      <th>CoRoT-1 b</th>\n      <td>327.363259</td>\n      <td>0.025400</td>\n      <td>1.740392</td>\n      <td>2007.615709</td>\n      <td>0.0000</td>\n      <td>0.06</td>\n      <td>1.110</td>\n      <td>6298.0</td>\n      <td>0.950</td>\n    </tr>\n    <tr>\n      <th>...</th>\n      <td>...</td>\n      <td>...</td>\n      <td>...</td>\n      <td>...</td>\n      <td>...</td>\n      <td>...</td>\n      <td>...</td>\n      <td>...</td>\n      <td>...</td>\n    </tr>\n    <tr>\n      <th>XO-4 b</th>\n      <td>513.610705</td>\n      <td>0.054850</td>\n      <td>2.276949</td>\n      <td>1461.119331</td>\n      <td>0.0000</td>\n      <td>-0.04</td>\n      <td>1.550</td>\n      <td>5700.0</td>\n      <td>1.320</td>\n    </tr>\n    <tr>\n      <th>XO-5 b</th>\n      <td>342.301194</td>\n      <td>0.048700</td>\n      <td>0.929841</td>\n      <td>1239.576541</td>\n      <td>0.0000</td>\n      <td>0.18</td>\n      <td>1.060</td>\n      <td>5510.0</td>\n      <td>0.880</td>\n    </tr>\n    <tr>\n      <th>XO-6 b</th>\n      <td>603.873973</td>\n      <td>0.081500</td>\n      <td>6.819966</td>\n      <td>1576.893711</td>\n      <td>0.0000</td>\n      <td>-0.07</td>\n      <td>1.930</td>\n      <td>6720.0</td>\n      <td>1.470</td>\n    </tr>\n    <tr>\n      <th>kappa And b</th>\n      <td>4131.769286</td>\n      <td>100.000000</td>\n      <td>78.438221</td>\n      <td>89.879687</td>\n      <td>0.6900</td>\n      <td>-0.36</td>\n      <td>2.290</td>\n      <td>11361.0</td>\n      <td>2.800</td>\n    </tr>\n    <tr>\n      <th>tau Boo b</th>\n      <td>1856.117895</td>\n      <td>0.046000</td>\n      <td>2.519932</td>\n      <td>1637.725904</td>\n      <td>0.0787</td>\n      <td>0.28</td>\n      <td>1.331</td>\n      <td>6309.0</td>\n      <td>1.300</td>\n    </tr>\n  </tbody>\n</table>\n<p>501 rows × 9 columns</p>\n</div>"
     },
     "execution_count": 50,
     "metadata": {},
     "output_type": "execute_result"
    }
   ],
   "source": [
    "features"
   ],
   "metadata": {
    "collapsed": false,
    "ExecuteTime": {
     "end_time": "2023-11-09T03:32:39.235877Z",
     "start_time": "2023-11-09T03:32:39.230220Z"
    }
   },
   "id": "2de1729f3a3b798e"
  },
  {
   "cell_type": "code",
   "execution_count": 63,
   "outputs": [
    {
     "data": {
      "text/plain": "pandas.core.series.Series"
     },
     "execution_count": 63,
     "metadata": {},
     "output_type": "execute_result"
    }
   ],
   "source": [
    "type(labels)"
   ],
   "metadata": {
    "collapsed": false,
    "ExecuteTime": {
     "end_time": "2023-11-09T03:37:39.870731Z",
     "start_time": "2023-11-09T03:37:39.858934Z"
    }
   },
   "id": "2b4eb10675ad74c8"
  },
  {
   "cell_type": "code",
   "execution_count": 50,
   "outputs": [],
   "source": [],
   "metadata": {
    "collapsed": false,
    "ExecuteTime": {
     "end_time": "2023-11-09T03:32:44.006100Z",
     "start_time": "2023-11-09T03:32:43.996891Z"
    }
   },
   "id": "80cdb53c7804974d"
  },
  {
   "cell_type": "code",
   "execution_count": 51,
   "outputs": [
    {
     "data": {
      "text/plain": "51 Peg b        21.297063\n55 Cnc e         1.947000\nBD+20 594 b      2.230587\nBD-10 3166 b    11.545250\nCoRoT-1 b       16.701381\n                  ...    \nXO-4 b          14.762228\nXO-5 b          11.545250\nXO-6 b          23.202590\nkappa And b     13.450777\ntau Boo b       11.881520\nName: radius, Length: 501, dtype: float64"
     },
     "execution_count": 51,
     "metadata": {},
     "output_type": "execute_result"
    }
   ],
   "source": [
    "labels"
   ],
   "metadata": {
    "collapsed": false,
    "ExecuteTime": {
     "end_time": "2023-11-09T03:32:44.466960Z",
     "start_time": "2023-11-09T03:32:44.462760Z"
    }
   },
   "id": "9f2531d9ea03169e"
  },
  {
   "cell_type": "code",
   "execution_count": 69,
   "outputs": [],
   "source": [
    "# random state is kind of 'random seed'\n",
    "X_train, X_test, y_train, y_test = train_test_split(features, labels, test_size=0.25, random_state=0)"
   ],
   "metadata": {
    "collapsed": false,
    "ExecuteTime": {
     "end_time": "2023-11-09T03:40:38.325715Z",
     "start_time": "2023-11-09T03:40:38.292631Z"
    }
   },
   "id": "fcf1773985d8e3fb"
  },
  {
   "cell_type": "code",
   "execution_count": 70,
   "outputs": [
    {
     "data": {
      "text/plain": "                    mass  semi_major_axis  star_luminosity      temp_eq  \\\nHAT-P-2 b    2777.820274          0.06740         3.603693  1537.034936   \nKepler-91 b   232.014737          0.07200        15.272749  2053.457463   \nWASP-133 b    368.680952          0.03450         1.965237  1782.263273   \nWASP-16 b     271.743288          0.04210         0.762333  1268.617802   \nWASP-94 A b   143.658440          0.05500         2.406628  1479.471390   \n...                  ...              ...              ...          ...   \nKepler-9 b     43.510709          0.14300         1.164575   765.636501   \nHD 2685 b     375.037520          0.05680         4.734574  1724.176538   \nHATS-20 b      86.767155          0.04619         0.610133  1187.504126   \nGJ 9827 d       3.813941          0.06270         0.124724   661.134143   \nHD 1502 b     874.028118          1.26200        11.727135   458.940269   \n\n             eccentricity  star_metallicity  star_radius  star_teff  star_mass  \nHAT-P-2 b          0.5171              0.04        1.540     6414.0      1.340  \nKepler-91 b        0.0660              0.11        6.300     4550.0      1.310  \nWASP-133 b         0.1700              0.29        1.440     5700.0      1.160  \nWASP-16 b          0.0000              0.01        0.946     5550.0      1.022  \nWASP-94 A b        0.0000              0.26        1.360     6170.0      1.290  \n...                   ...               ...          ...        ...        ...  \nKepler-9 b         0.0626              0.17        1.100     5722.0      1.000  \nHD 2685 b          0.0000              0.02        1.570     6801.0      1.440  \nHATS-20 b          0.5000              0.03        0.892     5406.0      0.910  \nGJ 9827 d          0.0000             -0.28        0.651     4255.0      0.659  \nHD 1502 b          0.0310              0.09        4.670     4947.0      1.460  \n\n[375 rows x 9 columns]",
      "text/html": "<div>\n<style scoped>\n    .dataframe tbody tr th:only-of-type {\n        vertical-align: middle;\n    }\n\n    .dataframe tbody tr th {\n        vertical-align: top;\n    }\n\n    .dataframe thead th {\n        text-align: right;\n    }\n</style>\n<table border=\"1\" class=\"dataframe\">\n  <thead>\n    <tr style=\"text-align: right;\">\n      <th></th>\n      <th>mass</th>\n      <th>semi_major_axis</th>\n      <th>star_luminosity</th>\n      <th>temp_eq</th>\n      <th>eccentricity</th>\n      <th>star_metallicity</th>\n      <th>star_radius</th>\n      <th>star_teff</th>\n      <th>star_mass</th>\n    </tr>\n  </thead>\n  <tbody>\n    <tr>\n      <th>HAT-P-2 b</th>\n      <td>2777.820274</td>\n      <td>0.06740</td>\n      <td>3.603693</td>\n      <td>1537.034936</td>\n      <td>0.5171</td>\n      <td>0.04</td>\n      <td>1.540</td>\n      <td>6414.0</td>\n      <td>1.340</td>\n    </tr>\n    <tr>\n      <th>Kepler-91 b</th>\n      <td>232.014737</td>\n      <td>0.07200</td>\n      <td>15.272749</td>\n      <td>2053.457463</td>\n      <td>0.0660</td>\n      <td>0.11</td>\n      <td>6.300</td>\n      <td>4550.0</td>\n      <td>1.310</td>\n    </tr>\n    <tr>\n      <th>WASP-133 b</th>\n      <td>368.680952</td>\n      <td>0.03450</td>\n      <td>1.965237</td>\n      <td>1782.263273</td>\n      <td>0.1700</td>\n      <td>0.29</td>\n      <td>1.440</td>\n      <td>5700.0</td>\n      <td>1.160</td>\n    </tr>\n    <tr>\n      <th>WASP-16 b</th>\n      <td>271.743288</td>\n      <td>0.04210</td>\n      <td>0.762333</td>\n      <td>1268.617802</td>\n      <td>0.0000</td>\n      <td>0.01</td>\n      <td>0.946</td>\n      <td>5550.0</td>\n      <td>1.022</td>\n    </tr>\n    <tr>\n      <th>WASP-94 A b</th>\n      <td>143.658440</td>\n      <td>0.05500</td>\n      <td>2.406628</td>\n      <td>1479.471390</td>\n      <td>0.0000</td>\n      <td>0.26</td>\n      <td>1.360</td>\n      <td>6170.0</td>\n      <td>1.290</td>\n    </tr>\n    <tr>\n      <th>...</th>\n      <td>...</td>\n      <td>...</td>\n      <td>...</td>\n      <td>...</td>\n      <td>...</td>\n      <td>...</td>\n      <td>...</td>\n      <td>...</td>\n      <td>...</td>\n    </tr>\n    <tr>\n      <th>Kepler-9 b</th>\n      <td>43.510709</td>\n      <td>0.14300</td>\n      <td>1.164575</td>\n      <td>765.636501</td>\n      <td>0.0626</td>\n      <td>0.17</td>\n      <td>1.100</td>\n      <td>5722.0</td>\n      <td>1.000</td>\n    </tr>\n    <tr>\n      <th>HD 2685 b</th>\n      <td>375.037520</td>\n      <td>0.05680</td>\n      <td>4.734574</td>\n      <td>1724.176538</td>\n      <td>0.0000</td>\n      <td>0.02</td>\n      <td>1.570</td>\n      <td>6801.0</td>\n      <td>1.440</td>\n    </tr>\n    <tr>\n      <th>HATS-20 b</th>\n      <td>86.767155</td>\n      <td>0.04619</td>\n      <td>0.610133</td>\n      <td>1187.504126</td>\n      <td>0.5000</td>\n      <td>0.03</td>\n      <td>0.892</td>\n      <td>5406.0</td>\n      <td>0.910</td>\n    </tr>\n    <tr>\n      <th>GJ 9827 d</th>\n      <td>3.813941</td>\n      <td>0.06270</td>\n      <td>0.124724</td>\n      <td>661.134143</td>\n      <td>0.0000</td>\n      <td>-0.28</td>\n      <td>0.651</td>\n      <td>4255.0</td>\n      <td>0.659</td>\n    </tr>\n    <tr>\n      <th>HD 1502 b</th>\n      <td>874.028118</td>\n      <td>1.26200</td>\n      <td>11.727135</td>\n      <td>458.940269</td>\n      <td>0.0310</td>\n      <td>0.09</td>\n      <td>4.670</td>\n      <td>4947.0</td>\n      <td>1.460</td>\n    </tr>\n  </tbody>\n</table>\n<p>375 rows × 9 columns</p>\n</div>"
     },
     "execution_count": 70,
     "metadata": {},
     "output_type": "execute_result"
    }
   ],
   "source": [
    "X_train"
   ],
   "metadata": {
    "collapsed": false,
    "ExecuteTime": {
     "end_time": "2023-11-09T03:40:38.957804Z",
     "start_time": "2023-11-09T03:40:38.944503Z"
    }
   },
   "id": "313f779c26bd012f"
  },
  {
   "cell_type": "code",
   "execution_count": 71,
   "outputs": [
    {
     "name": "stdout",
     "output_type": "stream",
     "text": [
      "\n",
      "HATS-12 b removes from test set\n",
      "\n",
      "\n",
      "K2-95 b removes from training set\n",
      "\n",
      "\n",
      "Kepler-11 g removes from training set\n"
     ]
    }
   ],
   "source": [
    "# TODO: why don't remove them from the whole dataset???\n",
    "X_test = X_test.drop(['HATS-12 b'])\n",
    "y_test = y_test.drop(labels=['HATS-12 b'])\n",
    "print('\\nHATS-12 b removes from test set\\n')\n",
    "\n",
    "# Remove K2-95 b from the training set\n",
    "X_train = X_train.drop(['K2-95 b'])\n",
    "y_train = y_train.drop(labels=['K2-95 b'])\n",
    "print('\\nK2-95 b removes from training set\\n')\n",
    "\n",
    "# Remove Kepler-11 g from the training set\n",
    "X_train = X_train.drop(['Kepler-11 g'])\n",
    "y_train = y_train.drop(labels=['Kepler-11 g'])\n",
    "print('\\nKepler-11 g removes from training set\\n')"
   ],
   "metadata": {
    "collapsed": false,
    "ExecuteTime": {
     "end_time": "2023-11-09T03:40:39.980636Z",
     "start_time": "2023-11-09T03:40:39.934684Z"
    }
   },
   "id": "45d19335cefb8058"
  },
  {
   "cell_type": "code",
   "execution_count": 72,
   "outputs": [],
   "source": [
    "train_test_values = [X_train.values, X_test.values,\n",
    "                     y_train.values, y_test.values]\n",
    "train_test_sets = [X_train, X_test, y_train, y_test]"
   ],
   "metadata": {
    "collapsed": false,
    "ExecuteTime": {
     "end_time": "2023-11-09T03:40:42.698229Z",
     "start_time": "2023-11-09T03:40:42.682106Z"
    }
   },
   "id": "dc106a146f7b255e"
  },
  {
   "cell_type": "code",
   "execution_count": 73,
   "outputs": [
    {
     "data": {
      "text/plain": "array([[2.77782027e+03, 6.74000000e-02, 3.60369306e+00, ...,\n        1.54000000e+00, 6.41400000e+03, 1.34000000e+00],\n       [2.32014737e+02, 7.20000000e-02, 1.52727490e+01, ...,\n        6.30000000e+00, 4.55000000e+03, 1.31000000e+00],\n       [3.68680952e+02, 3.45000000e-02, 1.96523702e+00, ...,\n        1.44000000e+00, 5.70000000e+03, 1.16000000e+00],\n       ...,\n       [8.67671550e+01, 4.61900000e-02, 6.10132844e-01, ...,\n        8.92000000e-01, 5.40600000e+03, 9.10000000e-01],\n       [3.81394088e+00, 6.27000000e-02, 1.24724211e-01, ...,\n        6.51000000e-01, 4.25500000e+03, 6.59000000e-01],\n       [8.74028118e+02, 1.26200000e+00, 1.17271352e+01, ...,\n        4.67000000e+00, 4.94700000e+03, 1.46000000e+00]])"
     },
     "execution_count": 73,
     "metadata": {},
     "output_type": "execute_result"
    }
   ],
   "source": [
    "train_test_values[0]"
   ],
   "metadata": {
    "collapsed": false,
    "ExecuteTime": {
     "end_time": "2023-11-09T03:40:43.850516Z",
     "start_time": "2023-11-09T03:40:43.803568Z"
    }
   },
   "id": "2ebc65113ef2ccb4"
  },
  {
   "cell_type": "code",
   "execution_count": 74,
   "outputs": [
    {
     "data": {
      "text/plain": "array([[10.65974068],\n       [15.51322933],\n       [13.56286668],\n       [11.29865258],\n       [19.27944686],\n       [ 9.52763362],\n       [19.05526724],\n       [14.44837616],\n       [14.40354024],\n       [12.3298788 ],\n       [13.71979241],\n       [16.02884245],\n       [15.63652812],\n       [13.63012057],\n       [ 3.01521582],\n       [14.34749534],\n       [20.4788078 ],\n       [11.30986156],\n       [12.66614823],\n       [16.70138129],\n       [10.7606215 ],\n       [ 3.17998783],\n       [12.89032784],\n       [10.87271131],\n       [14.41474922],\n       [12.64373026],\n       [11.43316035],\n       [10.90633825],\n       [14.12331572],\n       [11.2874436 ],\n       [13.58528465],\n       [ 4.93195152],\n       [14.57167495],\n       [16.42115677],\n       [15.46839341],\n       [ 2.64980304],\n       [13.92155407],\n       [20.90474906],\n       [ 4.44996535],\n       [14.31386839],\n       [ 0.77229877],\n       [13.89913611],\n       [11.88151957],\n       [16.37632085],\n       [12.03844531],\n       [14.39233126],\n       [10.55885985],\n       [18.94317744],\n       [11.54525015],\n       [11.65733996],\n       [15.90554366],\n       [10.7000007 ],\n       [15.69257302],\n       [13.67495649],\n       [19.05526724],\n       [ 9.78544018],\n       [10.86150233],\n       [ 0.92698271],\n       [15.33388564],\n       [11.30986156],\n       [13.4395679 ],\n       [13.00241765],\n       [ 2.21937818],\n       [14.03364388],\n       [ 2.57134018],\n       [ 2.12970634],\n       [14.7734366 ],\n       [16.25302206],\n       [13.89913611],\n       [ 8.37310861],\n       [16.01763346],\n       [11.30986156],\n       [12.10569919],\n       [12.71098415],\n       [15.80466283],\n       [16.8134711 ],\n       [18.92075947],\n       [15.52443831],\n       [ 3.94556122],\n       [12.217789  ],\n       [ 1.71049046],\n       [ 5.02050247],\n       [ 6.32971142],\n       [ 6.50120882],\n       [10.96238315],\n       [11.95998244],\n       [23.37072482],\n       [13.67495649],\n       [ 2.23058717],\n       [11.71338486],\n       [ 4.88039021],\n       [15.49081137],\n       [14.94157131],\n       [ 3.1200002 ],\n       [14.90794437],\n       [14.98640724],\n       [17.59809975],\n       [16.8134711 ],\n       [ 2.87000019],\n       [ 9.86390304],\n       [13.47319484],\n       [15.3563036 ],\n       [13.09208949],\n       [12.9127458 ],\n       [14.12331572],\n       [20.84870416],\n       [12.66614823],\n       [14.57167495],\n       [13.32747809],\n       [16.98160581],\n       [ 2.1521243 ],\n       [17.71018955],\n       [ 1.60198753],\n       [10.81666641],\n       [13.06967153],\n       [14.02243489],\n       [ 5.15388934],\n       [20.84870416],\n       [ 5.71658017],\n       [16.16335021],\n       [ 1.08603814],\n       [ 9.49400668],\n       [14.15694266],\n       [ 6.38015183],\n       [18.71899782],\n       [ 6.31065615],\n       [10.53644189],\n       [ 4.19000027],\n       [15.83828977],\n       [14.39233126],\n       [11.47799627],\n       [11.43316035],\n       [16.58929148],\n       [21.29706339],\n       [13.56286668],\n       [20.05286653],\n       [ 9.18015522],\n       [13.12571644],\n       [13.33868707],\n       [14.62771985],\n       [11.90393754],\n       [13.22659726],\n       [ 9.10169235],\n       [16.36511187],\n       [14.12331572],\n       [ 3.31897919],\n       [18.76383374],\n       [13.7870463 ],\n       [ 2.75505537],\n       [15.69257302],\n       [ 2.53322965],\n       [15.69257302],\n       [11.27063012],\n       [ 2.7899153 ],\n       [ 1.24699911],\n       [ 5.27942992],\n       [10.7606215 ],\n       [ 2.83598421],\n       [ 2.46597576],\n       [11.76942977],\n       [11.27623462],\n       [ 1.46949737],\n       [11.82547467],\n       [10.08808266],\n       [ 2.59151634],\n       [ 1.16405265],\n       [14.00001693],\n       [12.38592371],\n       [ 2.4435578 ],\n       [16.8134711 ],\n       [14.23540553],\n       [10.20017247],\n       [10.20017247],\n       [13.22659726],\n       [ 9.2474091 ],\n       [11.65733996],\n       [18.0912949 ],\n       [14.45958514],\n       [ 8.56029858],\n       [11.99360938],\n       [13.64132955],\n       [17.39633809],\n       [10.59248679],\n       [14.34749534],\n       [23.20259011],\n       [11.634922  ],\n       [11.64613098],\n       [14.02243489],\n       [12.6213123 ],\n       [14.57167495],\n       [17.19457644],\n       [13.58528465],\n       [ 2.42001894],\n       [13.22659726],\n       [ 1.84948182],\n       [ 2.35052326],\n       [14.57167495],\n       [14.79585456],\n       [14.76222762],\n       [ 9.52763362],\n       [14.63892883],\n       [10.50281494],\n       [ 3.69896364],\n       [16.8134711 ],\n       [10.53644189],\n       [ 8.44932967],\n       [18.49481821],\n       [13.89913611],\n       [11.54525015],\n       [ 8.2049739 ],\n       [13.38352299],\n       [ 1.63875298],\n       [ 2.57806557],\n       [14.16815164],\n       [17.5084279 ],\n       [15.0088252 ],\n       [11.65733996],\n       [14.70618272],\n       [14.85189947],\n       [17.96799611],\n       [12.75582007],\n       [15.58048322],\n       [14.23540553],\n       [ 9.59488751],\n       [11.54525015],\n       [11.43316035],\n       [16.17455919],\n       [14.7173917 ],\n       [ 2.49000016],\n       [ 6.12010348],\n       [19.05526724],\n       [12.68856619],\n       [12.20658002],\n       [ 2.21298907],\n       [ 4.3602935 ],\n       [11.20898073],\n       [11.20898073],\n       [16.14093225],\n       [ 7.06165786],\n       [19.61571628],\n       [ 1.8046459 ],\n       [12.10569919],\n       [11.44436933],\n       [13.7870463 ],\n       [ 1.74501412],\n       [10.7045766 ],\n       [ 2.67000017],\n       [14.23540553],\n       [21.29706339],\n       [13.69737445],\n       [10.7606215 ],\n       [13.56286668],\n       [14.90794437],\n       [15.46839341],\n       [10.7606215 ],\n       [13.45077688],\n       [11.76942977],\n       [12.16174409],\n       [ 8.85509478],\n       [10.58127781],\n       [14.90794437],\n       [13.24901522],\n       [15.63652812],\n       [13.24901522],\n       [12.40834167],\n       [ 2.36509493],\n       [14.78464558],\n       [12.82307396],\n       [13.87671814],\n       [17.14974052],\n       [ 2.74395848],\n       [14.57167495],\n       [11.95998244],\n       [10.22259043],\n       [12.07207225],\n       [13.33868707],\n       [ 1.05599807],\n       [16.02884245],\n       [18.71899782],\n       [13.45077688],\n       [ 1.80000012],\n       [ 8.29464574],\n       [11.09689092],\n       [15.98400652],\n       [16.66775435],\n       [18.27063859],\n       [17.22820338],\n       [15.58048322],\n       [14.23540553],\n       [14.87431743],\n       [14.49321209],\n       [14.38112228],\n       [10.68215864],\n       [ 0.91801552],\n       [13.11450746],\n       [10.61490475],\n       [13.56286668],\n       [12.10569919],\n       [15.79345385],\n       [13.00241765],\n       [ 1.16012951],\n       [14.59409291],\n       [10.42435208],\n       [11.84789263],\n       [ 1.19375645],\n       [11.61250404],\n       [12.49801351],\n       [ 9.97599285],\n       [13.45077688],\n       [17.59809975],\n       [13.67495649],\n       [18.3827284 ],\n       [ 4.00000026],\n       [12.3298788 ],\n       [13.51803076],\n       [10.53644189],\n       [15.51322933],\n       [12.66614823],\n       [14.45958514],\n       [11.54525015],\n       [13.06967153],\n       [ 1.52442138],\n       [13.17055236],\n       [15.46839341],\n       [20.51243474],\n       [13.11450746],\n       [ 8.16013797],\n       [15.40113952],\n       [13.56286668],\n       [14.57167495],\n       [15.02003418],\n       [11.59008608],\n       [13.04725357],\n       [12.2738339 ],\n       [21.18497358],\n       [14.12331572],\n       [14.68376476],\n       [14.35870432],\n       [12.44196861],\n       [11.09689092],\n       [15.69257302],\n       [18.60690801],\n       [12.49801351],\n       [ 4.19215879],\n       [11.99360938],\n       [19.27944686],\n       [13.33868707],\n       [11.93756448],\n       [16.47720167],\n       [11.54525015],\n       [14.22419655],\n       [13.56286668],\n       [ 9.4827977 ],\n       [11.20898073],\n       [ 2.30905003],\n       [14.35870432],\n       [15.83828977],\n       [19.61571628],\n       [ 9.26982706],\n       [12.67735721],\n       [ 9.42675279],\n       [ 4.42978918],\n       [ 1.86853709],\n       [ 2.24706437],\n       [12.217789  ],\n       [ 1.04501327],\n       [13.8430912 ],\n       [13.22659726],\n       [ 8.2049739 ],\n       [16.14093225],\n       [ 8.69816905],\n       [ 2.08487042],\n       [13.2602242 ]])"
     },
     "execution_count": 74,
     "metadata": {},
     "output_type": "execute_result"
    }
   ],
   "source": [
    "train_test_values[2]"
   ],
   "metadata": {
    "collapsed": false,
    "ExecuteTime": {
     "end_time": "2023-11-09T03:40:45.242452Z",
     "start_time": "2023-11-09T03:40:45.195223Z"
    }
   },
   "id": "e1b66c86492d6e8a"
  },
  {
   "cell_type": "code",
   "execution_count": 75,
   "outputs": [
    {
     "data": {
      "text/plain": "                    mass  semi_major_axis  star_luminosity      temp_eq  \\\nHAT-P-2 b    2777.820274          0.06740         3.603693  1537.034936   \nKepler-91 b   232.014737          0.07200        15.272749  2053.457463   \nWASP-133 b    368.680952          0.03450         1.965237  1782.263273   \nWASP-16 b     271.743288          0.04210         0.762333  1268.617802   \nWASP-94 A b   143.658440          0.05500         2.406628  1479.471390   \n...                  ...              ...              ...          ...   \nKepler-9 b     43.510709          0.14300         1.164575   765.636501   \nHD 2685 b     375.037520          0.05680         4.734574  1724.176538   \nHATS-20 b      86.767155          0.04619         0.610133  1187.504126   \nGJ 9827 d       3.813941          0.06270         0.124724   661.134143   \nHD 1502 b     874.028118          1.26200        11.727135   458.940269   \n\n             eccentricity  star_metallicity  star_radius  star_teff  star_mass  \nHAT-P-2 b          0.5171              0.04        1.540     6414.0      1.340  \nKepler-91 b        0.0660              0.11        6.300     4550.0      1.310  \nWASP-133 b         0.1700              0.29        1.440     5700.0      1.160  \nWASP-16 b          0.0000              0.01        0.946     5550.0      1.022  \nWASP-94 A b        0.0000              0.26        1.360     6170.0      1.290  \n...                   ...               ...          ...        ...        ...  \nKepler-9 b         0.0626              0.17        1.100     5722.0      1.000  \nHD 2685 b          0.0000              0.02        1.570     6801.0      1.440  \nHATS-20 b          0.5000              0.03        0.892     5406.0      0.910  \nGJ 9827 d          0.0000             -0.28        0.651     4255.0      0.659  \nHD 1502 b          0.0310              0.09        4.670     4947.0      1.460  \n\n[373 rows x 9 columns]",
      "text/html": "<div>\n<style scoped>\n    .dataframe tbody tr th:only-of-type {\n        vertical-align: middle;\n    }\n\n    .dataframe tbody tr th {\n        vertical-align: top;\n    }\n\n    .dataframe thead th {\n        text-align: right;\n    }\n</style>\n<table border=\"1\" class=\"dataframe\">\n  <thead>\n    <tr style=\"text-align: right;\">\n      <th></th>\n      <th>mass</th>\n      <th>semi_major_axis</th>\n      <th>star_luminosity</th>\n      <th>temp_eq</th>\n      <th>eccentricity</th>\n      <th>star_metallicity</th>\n      <th>star_radius</th>\n      <th>star_teff</th>\n      <th>star_mass</th>\n    </tr>\n  </thead>\n  <tbody>\n    <tr>\n      <th>HAT-P-2 b</th>\n      <td>2777.820274</td>\n      <td>0.06740</td>\n      <td>3.603693</td>\n      <td>1537.034936</td>\n      <td>0.5171</td>\n      <td>0.04</td>\n      <td>1.540</td>\n      <td>6414.0</td>\n      <td>1.340</td>\n    </tr>\n    <tr>\n      <th>Kepler-91 b</th>\n      <td>232.014737</td>\n      <td>0.07200</td>\n      <td>15.272749</td>\n      <td>2053.457463</td>\n      <td>0.0660</td>\n      <td>0.11</td>\n      <td>6.300</td>\n      <td>4550.0</td>\n      <td>1.310</td>\n    </tr>\n    <tr>\n      <th>WASP-133 b</th>\n      <td>368.680952</td>\n      <td>0.03450</td>\n      <td>1.965237</td>\n      <td>1782.263273</td>\n      <td>0.1700</td>\n      <td>0.29</td>\n      <td>1.440</td>\n      <td>5700.0</td>\n      <td>1.160</td>\n    </tr>\n    <tr>\n      <th>WASP-16 b</th>\n      <td>271.743288</td>\n      <td>0.04210</td>\n      <td>0.762333</td>\n      <td>1268.617802</td>\n      <td>0.0000</td>\n      <td>0.01</td>\n      <td>0.946</td>\n      <td>5550.0</td>\n      <td>1.022</td>\n    </tr>\n    <tr>\n      <th>WASP-94 A b</th>\n      <td>143.658440</td>\n      <td>0.05500</td>\n      <td>2.406628</td>\n      <td>1479.471390</td>\n      <td>0.0000</td>\n      <td>0.26</td>\n      <td>1.360</td>\n      <td>6170.0</td>\n      <td>1.290</td>\n    </tr>\n    <tr>\n      <th>...</th>\n      <td>...</td>\n      <td>...</td>\n      <td>...</td>\n      <td>...</td>\n      <td>...</td>\n      <td>...</td>\n      <td>...</td>\n      <td>...</td>\n      <td>...</td>\n    </tr>\n    <tr>\n      <th>Kepler-9 b</th>\n      <td>43.510709</td>\n      <td>0.14300</td>\n      <td>1.164575</td>\n      <td>765.636501</td>\n      <td>0.0626</td>\n      <td>0.17</td>\n      <td>1.100</td>\n      <td>5722.0</td>\n      <td>1.000</td>\n    </tr>\n    <tr>\n      <th>HD 2685 b</th>\n      <td>375.037520</td>\n      <td>0.05680</td>\n      <td>4.734574</td>\n      <td>1724.176538</td>\n      <td>0.0000</td>\n      <td>0.02</td>\n      <td>1.570</td>\n      <td>6801.0</td>\n      <td>1.440</td>\n    </tr>\n    <tr>\n      <th>HATS-20 b</th>\n      <td>86.767155</td>\n      <td>0.04619</td>\n      <td>0.610133</td>\n      <td>1187.504126</td>\n      <td>0.5000</td>\n      <td>0.03</td>\n      <td>0.892</td>\n      <td>5406.0</td>\n      <td>0.910</td>\n    </tr>\n    <tr>\n      <th>GJ 9827 d</th>\n      <td>3.813941</td>\n      <td>0.06270</td>\n      <td>0.124724</td>\n      <td>661.134143</td>\n      <td>0.0000</td>\n      <td>-0.28</td>\n      <td>0.651</td>\n      <td>4255.0</td>\n      <td>0.659</td>\n    </tr>\n    <tr>\n      <th>HD 1502 b</th>\n      <td>874.028118</td>\n      <td>1.26200</td>\n      <td>11.727135</td>\n      <td>458.940269</td>\n      <td>0.0310</td>\n      <td>0.09</td>\n      <td>4.670</td>\n      <td>4947.0</td>\n      <td>1.460</td>\n    </tr>\n  </tbody>\n</table>\n<p>373 rows × 9 columns</p>\n</div>"
     },
     "execution_count": 75,
     "metadata": {},
     "output_type": "execute_result"
    }
   ],
   "source": [
    "train_test_sets[0]"
   ],
   "metadata": {
    "collapsed": false,
    "ExecuteTime": {
     "end_time": "2023-11-09T03:40:45.998200Z",
     "start_time": "2023-11-09T03:40:45.980351Z"
    }
   },
   "id": "78c98b0254bafe07"
  },
  {
   "cell_type": "code",
   "execution_count": 76,
   "outputs": [],
   "source": [
    "from sklearn.ensemble import RandomForestRegressor\n",
    "from sklearn.model_selection import GridSearchCV, RandomizedSearchCV\n",
    "import numpy as np"
   ],
   "metadata": {
    "collapsed": false,
    "ExecuteTime": {
     "end_time": "2023-11-09T03:40:47.684876Z",
     "start_time": "2023-11-09T03:40:47.678960Z"
    }
   },
   "id": "d43d1272f86c09b2"
  },
  {
   "cell_type": "code",
   "execution_count": 81,
   "outputs": [
    {
     "name": "stdout",
     "output_type": "stream",
     "text": [
      "Fitting 3 folds for each of 2160 candidates, totalling 6480 fits\n"
     ]
    },
    {
     "data": {
      "text/plain": "GridSearchCV(cv=3, estimator=RandomForestRegressor(), n_jobs=-1,\n             param_grid={'max_depth': array([4, 5, 6, 7, 8, 9]),\n                         'max_features': array([3, 4, 5]),\n                         'min_samples_split': array([4]),\n                         'n_estimators': array([ 80,  81,  82,  83,  84,  85,  86,  87,  88,  89,  90,  91,  92,\n        93,  94,  95,  96,  97,  98,  99, 100, 101, 102, 103, 104, 105,\n       106, 107, 108, 109, 110, 111, 112, 113, 114, 115, 116, 117, 118,\n       119, 120, 121, 122, 123, 124, 125, 126, 127, 128, 129, 130, 131,\n       132, 133, 134, 135, 136, 137, 138, 139, 140, 141, 142, 143, 144,\n       145, 146, 147, 148, 149, 150, 151, 152, 153, 154, 155, 156, 157,\n       158, 159, 160, 161, 162, 163, 164, 165, 166, 167, 168, 169, 170,\n       171, 172, 173, 174, 175, 176, 177, 178, 179, 180, 181, 182, 183,\n       184, 185, 186, 187, 188, 189, 190, 191, 192, 193, 194, 195, 196,\n       197, 198, 199])},\n             verbose=1)",
      "text/html": "<style>#sk-container-id-4 {color: black;background-color: white;}#sk-container-id-4 pre{padding: 0;}#sk-container-id-4 div.sk-toggleable {background-color: white;}#sk-container-id-4 label.sk-toggleable__label {cursor: pointer;display: block;width: 100%;margin-bottom: 0;padding: 0.3em;box-sizing: border-box;text-align: center;}#sk-container-id-4 label.sk-toggleable__label-arrow:before {content: \"▸\";float: left;margin-right: 0.25em;color: #696969;}#sk-container-id-4 label.sk-toggleable__label-arrow:hover:before {color: black;}#sk-container-id-4 div.sk-estimator:hover label.sk-toggleable__label-arrow:before {color: black;}#sk-container-id-4 div.sk-toggleable__content {max-height: 0;max-width: 0;overflow: hidden;text-align: left;background-color: #f0f8ff;}#sk-container-id-4 div.sk-toggleable__content pre {margin: 0.2em;color: black;border-radius: 0.25em;background-color: #f0f8ff;}#sk-container-id-4 input.sk-toggleable__control:checked~div.sk-toggleable__content {max-height: 200px;max-width: 100%;overflow: auto;}#sk-container-id-4 input.sk-toggleable__control:checked~label.sk-toggleable__label-arrow:before {content: \"▾\";}#sk-container-id-4 div.sk-estimator input.sk-toggleable__control:checked~label.sk-toggleable__label {background-color: #d4ebff;}#sk-container-id-4 div.sk-label input.sk-toggleable__control:checked~label.sk-toggleable__label {background-color: #d4ebff;}#sk-container-id-4 input.sk-hidden--visually {border: 0;clip: rect(1px 1px 1px 1px);clip: rect(1px, 1px, 1px, 1px);height: 1px;margin: -1px;overflow: hidden;padding: 0;position: absolute;width: 1px;}#sk-container-id-4 div.sk-estimator {font-family: monospace;background-color: #f0f8ff;border: 1px dotted black;border-radius: 0.25em;box-sizing: border-box;margin-bottom: 0.5em;}#sk-container-id-4 div.sk-estimator:hover {background-color: #d4ebff;}#sk-container-id-4 div.sk-parallel-item::after {content: \"\";width: 100%;border-bottom: 1px solid gray;flex-grow: 1;}#sk-container-id-4 div.sk-label:hover label.sk-toggleable__label {background-color: #d4ebff;}#sk-container-id-4 div.sk-serial::before {content: \"\";position: absolute;border-left: 1px solid gray;box-sizing: border-box;top: 0;bottom: 0;left: 50%;z-index: 0;}#sk-container-id-4 div.sk-serial {display: flex;flex-direction: column;align-items: center;background-color: white;padding-right: 0.2em;padding-left: 0.2em;position: relative;}#sk-container-id-4 div.sk-item {position: relative;z-index: 1;}#sk-container-id-4 div.sk-parallel {display: flex;align-items: stretch;justify-content: center;background-color: white;position: relative;}#sk-container-id-4 div.sk-item::before, #sk-container-id-4 div.sk-parallel-item::before {content: \"\";position: absolute;border-left: 1px solid gray;box-sizing: border-box;top: 0;bottom: 0;left: 50%;z-index: -1;}#sk-container-id-4 div.sk-parallel-item {display: flex;flex-direction: column;z-index: 1;position: relative;background-color: white;}#sk-container-id-4 div.sk-parallel-item:first-child::after {align-self: flex-end;width: 50%;}#sk-container-id-4 div.sk-parallel-item:last-child::after {align-self: flex-start;width: 50%;}#sk-container-id-4 div.sk-parallel-item:only-child::after {width: 0;}#sk-container-id-4 div.sk-dashed-wrapped {border: 1px dashed gray;margin: 0 0.4em 0.5em 0.4em;box-sizing: border-box;padding-bottom: 0.4em;background-color: white;}#sk-container-id-4 div.sk-label label {font-family: monospace;font-weight: bold;display: inline-block;line-height: 1.2em;}#sk-container-id-4 div.sk-label-container {text-align: center;}#sk-container-id-4 div.sk-container {/* jupyter's `normalize.less` sets `[hidden] { display: none; }` but bootstrap.min.css set `[hidden] { display: none !important; }` so we also need the `!important` here to be able to override the default hidden behavior on the sphinx rendered scikit-learn.org. See: https://github.com/scikit-learn/scikit-learn/issues/21755 */display: inline-block !important;position: relative;}#sk-container-id-4 div.sk-text-repr-fallback {display: none;}</style><div id=\"sk-container-id-4\" class=\"sk-top-container\"><div class=\"sk-text-repr-fallback\"><pre>GridSearchCV(cv=3, estimator=RandomForestRegressor(), n_jobs=-1,\n             param_grid={&#x27;max_depth&#x27;: array([4, 5, 6, 7, 8, 9]),\n                         &#x27;max_features&#x27;: array([3, 4, 5]),\n                         &#x27;min_samples_split&#x27;: array([4]),\n                         &#x27;n_estimators&#x27;: array([ 80,  81,  82,  83,  84,  85,  86,  87,  88,  89,  90,  91,  92,\n        93,  94,  95,  96,  97,  98,  99, 100, 101, 102, 103, 104, 105,\n       106, 107, 108, 109, 110, 111, 112, 113, 114, 115, 116, 117, 118,\n       119, 120, 121, 122, 123, 124, 125, 126, 127, 128, 129, 130, 131,\n       132, 133, 134, 135, 136, 137, 138, 139, 140, 141, 142, 143, 144,\n       145, 146, 147, 148, 149, 150, 151, 152, 153, 154, 155, 156, 157,\n       158, 159, 160, 161, 162, 163, 164, 165, 166, 167, 168, 169, 170,\n       171, 172, 173, 174, 175, 176, 177, 178, 179, 180, 181, 182, 183,\n       184, 185, 186, 187, 188, 189, 190, 191, 192, 193, 194, 195, 196,\n       197, 198, 199])},\n             verbose=1)</pre><b>In a Jupyter environment, please rerun this cell to show the HTML representation or trust the notebook. <br />On GitHub, the HTML representation is unable to render, please try loading this page with nbviewer.org.</b></div><div class=\"sk-container\" hidden><div class=\"sk-item sk-dashed-wrapped\"><div class=\"sk-label-container\"><div class=\"sk-label sk-toggleable\"><input class=\"sk-toggleable__control sk-hidden--visually\" id=\"sk-estimator-id-8\" type=\"checkbox\" ><label for=\"sk-estimator-id-8\" class=\"sk-toggleable__label sk-toggleable__label-arrow\">GridSearchCV</label><div class=\"sk-toggleable__content\"><pre>GridSearchCV(cv=3, estimator=RandomForestRegressor(), n_jobs=-1,\n             param_grid={&#x27;max_depth&#x27;: array([4, 5, 6, 7, 8, 9]),\n                         &#x27;max_features&#x27;: array([3, 4, 5]),\n                         &#x27;min_samples_split&#x27;: array([4]),\n                         &#x27;n_estimators&#x27;: array([ 80,  81,  82,  83,  84,  85,  86,  87,  88,  89,  90,  91,  92,\n        93,  94,  95,  96,  97,  98,  99, 100, 101, 102, 103, 104, 105,\n       106, 107, 108, 109, 110, 111, 112, 113, 114, 115, 116, 117, 118,\n       119, 120, 121, 122, 123, 124, 125, 126, 127, 128, 129, 130, 131,\n       132, 133, 134, 135, 136, 137, 138, 139, 140, 141, 142, 143, 144,\n       145, 146, 147, 148, 149, 150, 151, 152, 153, 154, 155, 156, 157,\n       158, 159, 160, 161, 162, 163, 164, 165, 166, 167, 168, 169, 170,\n       171, 172, 173, 174, 175, 176, 177, 178, 179, 180, 181, 182, 183,\n       184, 185, 186, 187, 188, 189, 190, 191, 192, 193, 194, 195, 196,\n       197, 198, 199])},\n             verbose=1)</pre></div></div></div><div class=\"sk-parallel\"><div class=\"sk-parallel-item\"><div class=\"sk-item\"><div class=\"sk-label-container\"><div class=\"sk-label sk-toggleable\"><input class=\"sk-toggleable__control sk-hidden--visually\" id=\"sk-estimator-id-9\" type=\"checkbox\" ><label for=\"sk-estimator-id-9\" class=\"sk-toggleable__label sk-toggleable__label-arrow\">estimator: RandomForestRegressor</label><div class=\"sk-toggleable__content\"><pre>RandomForestRegressor()</pre></div></div></div><div class=\"sk-serial\"><div class=\"sk-item\"><div class=\"sk-estimator sk-toggleable\"><input class=\"sk-toggleable__control sk-hidden--visually\" id=\"sk-estimator-id-10\" type=\"checkbox\" ><label for=\"sk-estimator-id-10\" class=\"sk-toggleable__label sk-toggleable__label-arrow\">RandomForestRegressor</label><div class=\"sk-toggleable__content\"><pre>RandomForestRegressor()</pre></div></div></div></div></div></div></div></div></div></div>"
     },
     "execution_count": 81,
     "metadata": {},
     "output_type": "execute_result"
    }
   ],
   "source": [
    "rf = GridSearchCV(RandomForestRegressor(),\n",
    "                          param_grid={'n_estimators': np.arange(80, 200),\n",
    "                                      'max_depth': np.arange(4, 10),\n",
    "                                      'max_features': np.arange(3, 6),\n",
    "                                      'min_samples_split': np.arange(4, 5)},\n",
    "                          cv=3, verbose=1, n_jobs=-1)\n",
    "rf.fit(X_train, y_train.values.ravel())"
   ],
   "metadata": {
    "collapsed": false,
    "ExecuteTime": {
     "end_time": "2023-11-09T03:57:03.317896Z",
     "start_time": "2023-11-09T03:53:28.825957Z"
    }
   },
   "id": "2c26bc1bb0f4aa07"
  },
  {
   "cell_type": "code",
   "execution_count": 78,
   "outputs": [],
   "source": [
    "regr = RandomForestRegressor(n_estimators=rf.best_params_['n_estimators'],\n",
    "                             max_depth=rf.best_params_['max_depth'],\n",
    "                             max_features=rf.best_params_['max_features'],\n",
    "                             min_samples_split=rf.best_params_['min_samples_split'],\n",
    "                             random_state=0, oob_score=True)"
   ],
   "metadata": {
    "collapsed": false,
    "ExecuteTime": {
     "end_time": "2023-11-09T03:53:09.595039Z",
     "start_time": "2023-11-09T03:53:09.590934Z"
    }
   },
   "id": "e6036882186fbaf4"
  },
  {
   "cell_type": "code",
   "execution_count": 82,
   "outputs": [
    {
     "data": {
      "text/plain": "RandomForestRegressor(max_depth=9, max_features=5, min_samples_split=4,\n                      n_estimators=170, oob_score=True, random_state=0)",
      "text/html": "<style>#sk-container-id-5 {color: black;background-color: white;}#sk-container-id-5 pre{padding: 0;}#sk-container-id-5 div.sk-toggleable {background-color: white;}#sk-container-id-5 label.sk-toggleable__label {cursor: pointer;display: block;width: 100%;margin-bottom: 0;padding: 0.3em;box-sizing: border-box;text-align: center;}#sk-container-id-5 label.sk-toggleable__label-arrow:before {content: \"▸\";float: left;margin-right: 0.25em;color: #696969;}#sk-container-id-5 label.sk-toggleable__label-arrow:hover:before {color: black;}#sk-container-id-5 div.sk-estimator:hover label.sk-toggleable__label-arrow:before {color: black;}#sk-container-id-5 div.sk-toggleable__content {max-height: 0;max-width: 0;overflow: hidden;text-align: left;background-color: #f0f8ff;}#sk-container-id-5 div.sk-toggleable__content pre {margin: 0.2em;color: black;border-radius: 0.25em;background-color: #f0f8ff;}#sk-container-id-5 input.sk-toggleable__control:checked~div.sk-toggleable__content {max-height: 200px;max-width: 100%;overflow: auto;}#sk-container-id-5 input.sk-toggleable__control:checked~label.sk-toggleable__label-arrow:before {content: \"▾\";}#sk-container-id-5 div.sk-estimator input.sk-toggleable__control:checked~label.sk-toggleable__label {background-color: #d4ebff;}#sk-container-id-5 div.sk-label input.sk-toggleable__control:checked~label.sk-toggleable__label {background-color: #d4ebff;}#sk-container-id-5 input.sk-hidden--visually {border: 0;clip: rect(1px 1px 1px 1px);clip: rect(1px, 1px, 1px, 1px);height: 1px;margin: -1px;overflow: hidden;padding: 0;position: absolute;width: 1px;}#sk-container-id-5 div.sk-estimator {font-family: monospace;background-color: #f0f8ff;border: 1px dotted black;border-radius: 0.25em;box-sizing: border-box;margin-bottom: 0.5em;}#sk-container-id-5 div.sk-estimator:hover {background-color: #d4ebff;}#sk-container-id-5 div.sk-parallel-item::after {content: \"\";width: 100%;border-bottom: 1px solid gray;flex-grow: 1;}#sk-container-id-5 div.sk-label:hover label.sk-toggleable__label {background-color: #d4ebff;}#sk-container-id-5 div.sk-serial::before {content: \"\";position: absolute;border-left: 1px solid gray;box-sizing: border-box;top: 0;bottom: 0;left: 50%;z-index: 0;}#sk-container-id-5 div.sk-serial {display: flex;flex-direction: column;align-items: center;background-color: white;padding-right: 0.2em;padding-left: 0.2em;position: relative;}#sk-container-id-5 div.sk-item {position: relative;z-index: 1;}#sk-container-id-5 div.sk-parallel {display: flex;align-items: stretch;justify-content: center;background-color: white;position: relative;}#sk-container-id-5 div.sk-item::before, #sk-container-id-5 div.sk-parallel-item::before {content: \"\";position: absolute;border-left: 1px solid gray;box-sizing: border-box;top: 0;bottom: 0;left: 50%;z-index: -1;}#sk-container-id-5 div.sk-parallel-item {display: flex;flex-direction: column;z-index: 1;position: relative;background-color: white;}#sk-container-id-5 div.sk-parallel-item:first-child::after {align-self: flex-end;width: 50%;}#sk-container-id-5 div.sk-parallel-item:last-child::after {align-self: flex-start;width: 50%;}#sk-container-id-5 div.sk-parallel-item:only-child::after {width: 0;}#sk-container-id-5 div.sk-dashed-wrapped {border: 1px dashed gray;margin: 0 0.4em 0.5em 0.4em;box-sizing: border-box;padding-bottom: 0.4em;background-color: white;}#sk-container-id-5 div.sk-label label {font-family: monospace;font-weight: bold;display: inline-block;line-height: 1.2em;}#sk-container-id-5 div.sk-label-container {text-align: center;}#sk-container-id-5 div.sk-container {/* jupyter's `normalize.less` sets `[hidden] { display: none; }` but bootstrap.min.css set `[hidden] { display: none !important; }` so we also need the `!important` here to be able to override the default hidden behavior on the sphinx rendered scikit-learn.org. See: https://github.com/scikit-learn/scikit-learn/issues/21755 */display: inline-block !important;position: relative;}#sk-container-id-5 div.sk-text-repr-fallback {display: none;}</style><div id=\"sk-container-id-5\" class=\"sk-top-container\"><div class=\"sk-text-repr-fallback\"><pre>RandomForestRegressor(max_depth=9, max_features=5, min_samples_split=4,\n                      n_estimators=170, oob_score=True, random_state=0)</pre><b>In a Jupyter environment, please rerun this cell to show the HTML representation or trust the notebook. <br />On GitHub, the HTML representation is unable to render, please try loading this page with nbviewer.org.</b></div><div class=\"sk-container\" hidden><div class=\"sk-item\"><div class=\"sk-estimator sk-toggleable\"><input class=\"sk-toggleable__control sk-hidden--visually\" id=\"sk-estimator-id-11\" type=\"checkbox\" checked><label for=\"sk-estimator-id-11\" class=\"sk-toggleable__label sk-toggleable__label-arrow\">RandomForestRegressor</label><div class=\"sk-toggleable__content\"><pre>RandomForestRegressor(max_depth=9, max_features=5, min_samples_split=4,\n                      n_estimators=170, oob_score=True, random_state=0)</pre></div></div></div></div></div>"
     },
     "execution_count": 82,
     "metadata": {},
     "output_type": "execute_result"
    }
   ],
   "source": [
    "regr.fit(X_train, y_train.values.ravel())"
   ],
   "metadata": {
    "collapsed": false,
    "ExecuteTime": {
     "end_time": "2023-11-09T04:04:05.449077Z",
     "start_time": "2023-11-09T04:04:04.912632Z"
    }
   },
   "id": "19d367a46ddb6d2e"
  },
  {
   "cell_type": "code",
   "execution_count": null,
   "outputs": [],
   "source": [],
   "metadata": {
    "collapsed": false
   },
   "id": "59e810cd050f6879"
  }
 ],
 "metadata": {
  "kernelspec": {
   "display_name": "Python 3",
   "language": "python",
   "name": "python3"
  },
  "language_info": {
   "codemirror_mode": {
    "name": "ipython",
    "version": 2
   },
   "file_extension": ".py",
   "mimetype": "text/x-python",
   "name": "python",
   "nbconvert_exporter": "python",
   "pygments_lexer": "ipython2",
   "version": "2.7.6"
  }
 },
 "nbformat": 4,
 "nbformat_minor": 5
}
