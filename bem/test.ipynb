{
 "cells": [
  {
   "cell_type": "code",
   "execution_count": 218,
   "id": "initial_id",
   "metadata": {
    "collapsed": true,
    "ExecuteTime": {
     "end_time": "2023-11-15T16:34:29.562410Z",
     "start_time": "2023-11-15T16:34:29.432427Z"
    }
   },
   "outputs": [],
   "source": [
    "import numpy as np\n",
    "import pandas as pd\n",
    "import load_dataset as ld\n",
    "from sklearn.model_selection import train_test_split\n",
    "from sklearn.ensemble import RandomForestRegressor\n",
    "from sklearn.model_selection import GridSearchCV, RandomizedSearchCV\n",
    "from scipy.stats import multivariate_normal as mvn"
   ]
  },
  {
   "cell_type": "markdown",
   "source": [
    "## First load our dataset"
   ],
   "metadata": {
    "collapsed": false
   },
   "id": "d4af87ab64b1b54a"
  },
  {
   "cell_type": "code",
   "execution_count": 219,
   "outputs": [],
   "source": [
    "exoplanet_path = '../published_output/exoplanet.eu_catalog_15April.csv'\n",
    "solar_path = '../published_output/solar_system_planets_catalog.csv'\n",
    "features_name = ['mass', 'semi_major_axis','eccentricity', 'star_metallicity',\n",
    "                'star_radius', 'star_teff','star_mass', 'radius']\n",
    "\n",
    "dataset = ld.load_dataset(exoplanet_path, solar_path, features_name)"
   ],
   "metadata": {
    "collapsed": false,
    "ExecuteTime": {
     "end_time": "2023-11-15T16:34:29.567339Z",
     "start_time": "2023-11-15T16:34:29.440408Z"
    }
   },
   "id": "966b7686bcdf4fcf"
  },
  {
   "cell_type": "code",
   "execution_count": 220,
   "outputs": [
    {
     "data": {
      "text/plain": "['mass',\n 'semi_major_axis',\n 'eccentricity',\n 'star_metallicity',\n 'star_radius',\n 'star_teff',\n 'star_mass']"
     },
     "execution_count": 220,
     "metadata": {},
     "output_type": "execute_result"
    }
   ],
   "source": [
    "features_name[:-1]"
   ],
   "metadata": {
    "collapsed": false,
    "ExecuteTime": {
     "end_time": "2023-11-15T16:34:29.567665Z",
     "start_time": "2023-11-15T16:34:29.539125Z"
    }
   },
   "id": "9edca911b627b9c7"
  },
  {
   "cell_type": "code",
   "execution_count": 221,
   "outputs": [],
   "source": [
    "dataset_exo = dataset[:-8]\n",
    "dataset_solar = dataset[-8:]"
   ],
   "metadata": {
    "collapsed": false,
    "ExecuteTime": {
     "end_time": "2023-11-15T16:34:29.567808Z",
     "start_time": "2023-11-15T16:34:29.544019Z"
    }
   },
   "id": "9928f9c6331c4bf4"
  },
  {
   "cell_type": "code",
   "execution_count": 222,
   "outputs": [],
   "source": [
    "features = dataset_exo.drop('radius', axis=1).copy()   # mass, teq, etc\n",
    "labels = dataset_exo[['radius']].copy()   # radius"
   ],
   "metadata": {
    "collapsed": false,
    "ExecuteTime": {
     "end_time": "2023-11-15T16:34:29.567868Z",
     "start_time": "2023-11-15T16:34:29.548747Z"
    }
   },
   "id": "aa3ffe29b3c0f536"
  },
  {
   "cell_type": "code",
   "execution_count": 223,
   "outputs": [],
   "source": [
    "# features_1 = dataset_exo.iloc[:, :-1]   # mass, teq, etc\n",
    "# labels_1 = dataset_exo.iloc[:, -1]      # radius"
   ],
   "metadata": {
    "collapsed": false,
    "ExecuteTime": {
     "end_time": "2023-11-15T16:34:29.567936Z",
     "start_time": "2023-11-15T16:34:29.553663Z"
    }
   },
   "id": "364006d59634c1cd"
  },
  {
   "cell_type": "code",
   "execution_count": 224,
   "outputs": [],
   "source": [
    "# random state is random seed here\n",
    "# test size is percentage of test dataset\n",
    "X_train, X_test, y_train, y_test = train_test_split(features, labels['radius'], test_size=0.25, random_state=0)"
   ],
   "metadata": {
    "collapsed": false,
    "ExecuteTime": {
     "end_time": "2023-11-15T16:34:29.569322Z",
     "start_time": "2023-11-15T16:34:29.558666Z"
    }
   },
   "id": "2a4237d0f17004c1"
  },
  {
   "cell_type": "code",
   "execution_count": 225,
   "outputs": [],
   "source": [
    "# X_train, X_test, y_train, y_test = train_test_split(features_1, labels_1, test_size=0.25, random_state=0)"
   ],
   "metadata": {
    "collapsed": false,
    "ExecuteTime": {
     "end_time": "2023-11-15T16:34:29.569478Z",
     "start_time": "2023-11-15T16:34:29.563868Z"
    }
   },
   "id": "f232705d8bc3a3c7"
  },
  {
   "cell_type": "code",
   "execution_count": 226,
   "outputs": [
    {
     "name": "stdout",
     "output_type": "stream",
     "text": [
      "\n",
      "HATS-12 b removes from test set\n",
      "\n",
      "\n",
      "K2-95 b removes from training set\n",
      "\n",
      "\n",
      "Kepler-11 g removes from training set\n"
     ]
    }
   ],
   "source": [
    "# TODO: PHYS, why they manually change the data ??\n",
    "# TODO: Read paper to see if they mention it ??\n",
    "X_test = X_test.drop(['HATS-12 b'])\n",
    "y_test = y_test.drop(labels=['HATS-12 b'])\n",
    "print('\\nHATS-12 b removes from test set\\n')\n",
    "\n",
    "# Remove K2-95 b from the training set\n",
    "X_train = X_train.drop(['K2-95 b'])\n",
    "y_train = y_train.drop(labels=['K2-95 b'])\n",
    "print('\\nK2-95 b removes from training set\\n')\n",
    "\n",
    "# Remove Kepler-11 g from the training set\n",
    "X_train = X_train.drop(['Kepler-11 g'])\n",
    "y_train = y_train.drop(labels=['Kepler-11 g'])\n",
    "print('\\nKepler-11 g removes from training set\\n')"
   ],
   "metadata": {
    "collapsed": false,
    "ExecuteTime": {
     "end_time": "2023-11-15T16:34:29.582983Z",
     "start_time": "2023-11-15T16:34:29.570313Z"
    }
   },
   "id": "7d3f5f68b7c2d184"
  },
  {
   "cell_type": "code",
   "execution_count": 227,
   "outputs": [],
   "source": [
    "train_test_values = [X_train.values, X_test.values, y_train.values, y_test.values]\n",
    "train_test_sets = [X_train, X_test, y_train, y_test]"
   ],
   "metadata": {
    "collapsed": false,
    "ExecuteTime": {
     "end_time": "2023-11-15T16:34:29.596894Z",
     "start_time": "2023-11-15T16:34:29.577598Z"
    }
   },
   "id": "bb90a64c103549f4"
  },
  {
   "cell_type": "code",
   "execution_count": 228,
   "outputs": [
    {
     "name": "stdout",
     "output_type": "stream",
     "text": [
      "Fitting 3 folds for each of 2160 candidates, totalling 6480 fits\n"
     ]
    },
    {
     "data": {
      "text/plain": "GridSearchCV(cv=3, estimator=RandomForestRegressor(), n_jobs=-1,\n             param_grid={'max_depth': array([4, 5, 6, 7, 8, 9]),\n                         'max_features': array([3, 4, 5]),\n                         'min_samples_split': array([4]),\n                         'n_estimators': array([ 80,  81,  82,  83,  84,  85,  86,  87,  88,  89,  90,  91,  92,\n        93,  94,  95,  96,  97,  98,  99, 100, 101, 102, 103, 104, 105,\n       106, 107, 108, 109, 110, 111, 112, 113, 114, 115, 116, 117, 118,\n       119, 120, 121, 122, 123, 124, 125, 126, 127, 128, 129, 130, 131,\n       132, 133, 134, 135, 136, 137, 138, 139, 140, 141, 142, 143, 144,\n       145, 146, 147, 148, 149, 150, 151, 152, 153, 154, 155, 156, 157,\n       158, 159, 160, 161, 162, 163, 164, 165, 166, 167, 168, 169, 170,\n       171, 172, 173, 174, 175, 176, 177, 178, 179, 180, 181, 182, 183,\n       184, 185, 186, 187, 188, 189, 190, 191, 192, 193, 194, 195, 196,\n       197, 198, 199])},\n             verbose=1)",
      "text/html": "<style>#sk-container-id-13 {color: black;background-color: white;}#sk-container-id-13 pre{padding: 0;}#sk-container-id-13 div.sk-toggleable {background-color: white;}#sk-container-id-13 label.sk-toggleable__label {cursor: pointer;display: block;width: 100%;margin-bottom: 0;padding: 0.3em;box-sizing: border-box;text-align: center;}#sk-container-id-13 label.sk-toggleable__label-arrow:before {content: \"▸\";float: left;margin-right: 0.25em;color: #696969;}#sk-container-id-13 label.sk-toggleable__label-arrow:hover:before {color: black;}#sk-container-id-13 div.sk-estimator:hover label.sk-toggleable__label-arrow:before {color: black;}#sk-container-id-13 div.sk-toggleable__content {max-height: 0;max-width: 0;overflow: hidden;text-align: left;background-color: #f0f8ff;}#sk-container-id-13 div.sk-toggleable__content pre {margin: 0.2em;color: black;border-radius: 0.25em;background-color: #f0f8ff;}#sk-container-id-13 input.sk-toggleable__control:checked~div.sk-toggleable__content {max-height: 200px;max-width: 100%;overflow: auto;}#sk-container-id-13 input.sk-toggleable__control:checked~label.sk-toggleable__label-arrow:before {content: \"▾\";}#sk-container-id-13 div.sk-estimator input.sk-toggleable__control:checked~label.sk-toggleable__label {background-color: #d4ebff;}#sk-container-id-13 div.sk-label input.sk-toggleable__control:checked~label.sk-toggleable__label {background-color: #d4ebff;}#sk-container-id-13 input.sk-hidden--visually {border: 0;clip: rect(1px 1px 1px 1px);clip: rect(1px, 1px, 1px, 1px);height: 1px;margin: -1px;overflow: hidden;padding: 0;position: absolute;width: 1px;}#sk-container-id-13 div.sk-estimator {font-family: monospace;background-color: #f0f8ff;border: 1px dotted black;border-radius: 0.25em;box-sizing: border-box;margin-bottom: 0.5em;}#sk-container-id-13 div.sk-estimator:hover {background-color: #d4ebff;}#sk-container-id-13 div.sk-parallel-item::after {content: \"\";width: 100%;border-bottom: 1px solid gray;flex-grow: 1;}#sk-container-id-13 div.sk-label:hover label.sk-toggleable__label {background-color: #d4ebff;}#sk-container-id-13 div.sk-serial::before {content: \"\";position: absolute;border-left: 1px solid gray;box-sizing: border-box;top: 0;bottom: 0;left: 50%;z-index: 0;}#sk-container-id-13 div.sk-serial {display: flex;flex-direction: column;align-items: center;background-color: white;padding-right: 0.2em;padding-left: 0.2em;position: relative;}#sk-container-id-13 div.sk-item {position: relative;z-index: 1;}#sk-container-id-13 div.sk-parallel {display: flex;align-items: stretch;justify-content: center;background-color: white;position: relative;}#sk-container-id-13 div.sk-item::before, #sk-container-id-13 div.sk-parallel-item::before {content: \"\";position: absolute;border-left: 1px solid gray;box-sizing: border-box;top: 0;bottom: 0;left: 50%;z-index: -1;}#sk-container-id-13 div.sk-parallel-item {display: flex;flex-direction: column;z-index: 1;position: relative;background-color: white;}#sk-container-id-13 div.sk-parallel-item:first-child::after {align-self: flex-end;width: 50%;}#sk-container-id-13 div.sk-parallel-item:last-child::after {align-self: flex-start;width: 50%;}#sk-container-id-13 div.sk-parallel-item:only-child::after {width: 0;}#sk-container-id-13 div.sk-dashed-wrapped {border: 1px dashed gray;margin: 0 0.4em 0.5em 0.4em;box-sizing: border-box;padding-bottom: 0.4em;background-color: white;}#sk-container-id-13 div.sk-label label {font-family: monospace;font-weight: bold;display: inline-block;line-height: 1.2em;}#sk-container-id-13 div.sk-label-container {text-align: center;}#sk-container-id-13 div.sk-container {/* jupyter's `normalize.less` sets `[hidden] { display: none; }` but bootstrap.min.css set `[hidden] { display: none !important; }` so we also need the `!important` here to be able to override the default hidden behavior on the sphinx rendered scikit-learn.org. See: https://github.com/scikit-learn/scikit-learn/issues/21755 */display: inline-block !important;position: relative;}#sk-container-id-13 div.sk-text-repr-fallback {display: none;}</style><div id=\"sk-container-id-13\" class=\"sk-top-container\"><div class=\"sk-text-repr-fallback\"><pre>GridSearchCV(cv=3, estimator=RandomForestRegressor(), n_jobs=-1,\n             param_grid={&#x27;max_depth&#x27;: array([4, 5, 6, 7, 8, 9]),\n                         &#x27;max_features&#x27;: array([3, 4, 5]),\n                         &#x27;min_samples_split&#x27;: array([4]),\n                         &#x27;n_estimators&#x27;: array([ 80,  81,  82,  83,  84,  85,  86,  87,  88,  89,  90,  91,  92,\n        93,  94,  95,  96,  97,  98,  99, 100, 101, 102, 103, 104, 105,\n       106, 107, 108, 109, 110, 111, 112, 113, 114, 115, 116, 117, 118,\n       119, 120, 121, 122, 123, 124, 125, 126, 127, 128, 129, 130, 131,\n       132, 133, 134, 135, 136, 137, 138, 139, 140, 141, 142, 143, 144,\n       145, 146, 147, 148, 149, 150, 151, 152, 153, 154, 155, 156, 157,\n       158, 159, 160, 161, 162, 163, 164, 165, 166, 167, 168, 169, 170,\n       171, 172, 173, 174, 175, 176, 177, 178, 179, 180, 181, 182, 183,\n       184, 185, 186, 187, 188, 189, 190, 191, 192, 193, 194, 195, 196,\n       197, 198, 199])},\n             verbose=1)</pre><b>In a Jupyter environment, please rerun this cell to show the HTML representation or trust the notebook. <br />On GitHub, the HTML representation is unable to render, please try loading this page with nbviewer.org.</b></div><div class=\"sk-container\" hidden><div class=\"sk-item sk-dashed-wrapped\"><div class=\"sk-label-container\"><div class=\"sk-label sk-toggleable\"><input class=\"sk-toggleable__control sk-hidden--visually\" id=\"sk-estimator-id-23\" type=\"checkbox\" ><label for=\"sk-estimator-id-23\" class=\"sk-toggleable__label sk-toggleable__label-arrow\">GridSearchCV</label><div class=\"sk-toggleable__content\"><pre>GridSearchCV(cv=3, estimator=RandomForestRegressor(), n_jobs=-1,\n             param_grid={&#x27;max_depth&#x27;: array([4, 5, 6, 7, 8, 9]),\n                         &#x27;max_features&#x27;: array([3, 4, 5]),\n                         &#x27;min_samples_split&#x27;: array([4]),\n                         &#x27;n_estimators&#x27;: array([ 80,  81,  82,  83,  84,  85,  86,  87,  88,  89,  90,  91,  92,\n        93,  94,  95,  96,  97,  98,  99, 100, 101, 102, 103, 104, 105,\n       106, 107, 108, 109, 110, 111, 112, 113, 114, 115, 116, 117, 118,\n       119, 120, 121, 122, 123, 124, 125, 126, 127, 128, 129, 130, 131,\n       132, 133, 134, 135, 136, 137, 138, 139, 140, 141, 142, 143, 144,\n       145, 146, 147, 148, 149, 150, 151, 152, 153, 154, 155, 156, 157,\n       158, 159, 160, 161, 162, 163, 164, 165, 166, 167, 168, 169, 170,\n       171, 172, 173, 174, 175, 176, 177, 178, 179, 180, 181, 182, 183,\n       184, 185, 186, 187, 188, 189, 190, 191, 192, 193, 194, 195, 196,\n       197, 198, 199])},\n             verbose=1)</pre></div></div></div><div class=\"sk-parallel\"><div class=\"sk-parallel-item\"><div class=\"sk-item\"><div class=\"sk-label-container\"><div class=\"sk-label sk-toggleable\"><input class=\"sk-toggleable__control sk-hidden--visually\" id=\"sk-estimator-id-24\" type=\"checkbox\" ><label for=\"sk-estimator-id-24\" class=\"sk-toggleable__label sk-toggleable__label-arrow\">estimator: RandomForestRegressor</label><div class=\"sk-toggleable__content\"><pre>RandomForestRegressor()</pre></div></div></div><div class=\"sk-serial\"><div class=\"sk-item\"><div class=\"sk-estimator sk-toggleable\"><input class=\"sk-toggleable__control sk-hidden--visually\" id=\"sk-estimator-id-25\" type=\"checkbox\" ><label for=\"sk-estimator-id-25\" class=\"sk-toggleable__label sk-toggleable__label-arrow\">RandomForestRegressor</label><div class=\"sk-toggleable__content\"><pre>RandomForestRegressor()</pre></div></div></div></div></div></div></div></div></div></div>"
     },
     "execution_count": 228,
     "metadata": {},
     "output_type": "execute_result"
    }
   ],
   "source": [
    "# n_estimators: n of trees\n",
    "# max_depth\n",
    "# max features: the max value of features select for each node\n",
    "# min_samples_split: if split number is smaller than this value, don't split a node\n",
    "# TODO: min_samples_split, what np.arange(4, 5) mean??? dont make me laugh plz\n",
    "rf = GridSearchCV(RandomForestRegressor(),\n",
    "                          param_grid={'n_estimators': np.arange(80, 200),\n",
    "                                      'max_depth': np.arange(4, 10),\n",
    "                                      'max_features': np.arange(3, 6),\n",
    "                                      'min_samples_split': np.arange(4, 5)},\n",
    "                          cv=3, verbose=1, n_jobs=-1)\n",
    "rf.fit(X_train.values, y_train.values.ravel())"
   ],
   "metadata": {
    "collapsed": false,
    "ExecuteTime": {
     "end_time": "2023-11-15T16:37:30.275298Z",
     "start_time": "2023-11-15T16:34:29.580088Z"
    }
   },
   "id": "42a72b1216927c2f"
  },
  {
   "cell_type": "code",
   "execution_count": 229,
   "outputs": [
    {
     "data": {
      "text/plain": "RandomForestRegressor(max_depth=9, max_features=5, min_samples_split=4,\n                      n_estimators=151, oob_score=True, random_state=0)",
      "text/html": "<style>#sk-container-id-14 {color: black;background-color: white;}#sk-container-id-14 pre{padding: 0;}#sk-container-id-14 div.sk-toggleable {background-color: white;}#sk-container-id-14 label.sk-toggleable__label {cursor: pointer;display: block;width: 100%;margin-bottom: 0;padding: 0.3em;box-sizing: border-box;text-align: center;}#sk-container-id-14 label.sk-toggleable__label-arrow:before {content: \"▸\";float: left;margin-right: 0.25em;color: #696969;}#sk-container-id-14 label.sk-toggleable__label-arrow:hover:before {color: black;}#sk-container-id-14 div.sk-estimator:hover label.sk-toggleable__label-arrow:before {color: black;}#sk-container-id-14 div.sk-toggleable__content {max-height: 0;max-width: 0;overflow: hidden;text-align: left;background-color: #f0f8ff;}#sk-container-id-14 div.sk-toggleable__content pre {margin: 0.2em;color: black;border-radius: 0.25em;background-color: #f0f8ff;}#sk-container-id-14 input.sk-toggleable__control:checked~div.sk-toggleable__content {max-height: 200px;max-width: 100%;overflow: auto;}#sk-container-id-14 input.sk-toggleable__control:checked~label.sk-toggleable__label-arrow:before {content: \"▾\";}#sk-container-id-14 div.sk-estimator input.sk-toggleable__control:checked~label.sk-toggleable__label {background-color: #d4ebff;}#sk-container-id-14 div.sk-label input.sk-toggleable__control:checked~label.sk-toggleable__label {background-color: #d4ebff;}#sk-container-id-14 input.sk-hidden--visually {border: 0;clip: rect(1px 1px 1px 1px);clip: rect(1px, 1px, 1px, 1px);height: 1px;margin: -1px;overflow: hidden;padding: 0;position: absolute;width: 1px;}#sk-container-id-14 div.sk-estimator {font-family: monospace;background-color: #f0f8ff;border: 1px dotted black;border-radius: 0.25em;box-sizing: border-box;margin-bottom: 0.5em;}#sk-container-id-14 div.sk-estimator:hover {background-color: #d4ebff;}#sk-container-id-14 div.sk-parallel-item::after {content: \"\";width: 100%;border-bottom: 1px solid gray;flex-grow: 1;}#sk-container-id-14 div.sk-label:hover label.sk-toggleable__label {background-color: #d4ebff;}#sk-container-id-14 div.sk-serial::before {content: \"\";position: absolute;border-left: 1px solid gray;box-sizing: border-box;top: 0;bottom: 0;left: 50%;z-index: 0;}#sk-container-id-14 div.sk-serial {display: flex;flex-direction: column;align-items: center;background-color: white;padding-right: 0.2em;padding-left: 0.2em;position: relative;}#sk-container-id-14 div.sk-item {position: relative;z-index: 1;}#sk-container-id-14 div.sk-parallel {display: flex;align-items: stretch;justify-content: center;background-color: white;position: relative;}#sk-container-id-14 div.sk-item::before, #sk-container-id-14 div.sk-parallel-item::before {content: \"\";position: absolute;border-left: 1px solid gray;box-sizing: border-box;top: 0;bottom: 0;left: 50%;z-index: -1;}#sk-container-id-14 div.sk-parallel-item {display: flex;flex-direction: column;z-index: 1;position: relative;background-color: white;}#sk-container-id-14 div.sk-parallel-item:first-child::after {align-self: flex-end;width: 50%;}#sk-container-id-14 div.sk-parallel-item:last-child::after {align-self: flex-start;width: 50%;}#sk-container-id-14 div.sk-parallel-item:only-child::after {width: 0;}#sk-container-id-14 div.sk-dashed-wrapped {border: 1px dashed gray;margin: 0 0.4em 0.5em 0.4em;box-sizing: border-box;padding-bottom: 0.4em;background-color: white;}#sk-container-id-14 div.sk-label label {font-family: monospace;font-weight: bold;display: inline-block;line-height: 1.2em;}#sk-container-id-14 div.sk-label-container {text-align: center;}#sk-container-id-14 div.sk-container {/* jupyter's `normalize.less` sets `[hidden] { display: none; }` but bootstrap.min.css set `[hidden] { display: none !important; }` so we also need the `!important` here to be able to override the default hidden behavior on the sphinx rendered scikit-learn.org. See: https://github.com/scikit-learn/scikit-learn/issues/21755 */display: inline-block !important;position: relative;}#sk-container-id-14 div.sk-text-repr-fallback {display: none;}</style><div id=\"sk-container-id-14\" class=\"sk-top-container\"><div class=\"sk-text-repr-fallback\"><pre>RandomForestRegressor(max_depth=9, max_features=5, min_samples_split=4,\n                      n_estimators=151, oob_score=True, random_state=0)</pre><b>In a Jupyter environment, please rerun this cell to show the HTML representation or trust the notebook. <br />On GitHub, the HTML representation is unable to render, please try loading this page with nbviewer.org.</b></div><div class=\"sk-container\" hidden><div class=\"sk-item\"><div class=\"sk-estimator sk-toggleable\"><input class=\"sk-toggleable__control sk-hidden--visually\" id=\"sk-estimator-id-26\" type=\"checkbox\" checked><label for=\"sk-estimator-id-26\" class=\"sk-toggleable__label sk-toggleable__label-arrow\">RandomForestRegressor</label><div class=\"sk-toggleable__content\"><pre>RandomForestRegressor(max_depth=9, max_features=5, min_samples_split=4,\n                      n_estimators=151, oob_score=True, random_state=0)</pre></div></div></div></div></div>"
     },
     "execution_count": 229,
     "metadata": {},
     "output_type": "execute_result"
    }
   ],
   "source": [
    "regr = RandomForestRegressor(n_estimators=rf.best_params_['n_estimators'],\n",
    "                             max_depth=rf.best_params_['max_depth'],\n",
    "                             max_features=rf.best_params_['max_features'],\n",
    "                             min_samples_split=rf.best_params_['min_samples_split'],\n",
    "                             random_state=0, oob_score=True)\n",
    "regr.fit(X_train.values, y_train.values.ravel())"
   ],
   "metadata": {
    "collapsed": false,
    "ExecuteTime": {
     "end_time": "2023-11-15T16:37:30.518455Z",
     "start_time": "2023-11-15T16:37:30.286618Z"
    }
   },
   "id": "b4d9b6ac0b34e7e3"
  },
  {
   "cell_type": "code",
   "execution_count": 230,
   "outputs": [],
   "source": [
    "train_prediction = regr.predict(X_train.values)"
   ],
   "metadata": {
    "collapsed": false,
    "ExecuteTime": {
     "end_time": "2023-11-15T16:37:30.543803Z",
     "start_time": "2023-11-15T16:37:30.518194Z"
    }
   },
   "id": "c52aab9ab896d6b4"
  },
  {
   "cell_type": "code",
   "execution_count": 231,
   "outputs": [
    {
     "name": "stdout",
     "output_type": "stream",
     "text": [
      "1.0024773400278228 1.8168347537463303\n"
     ]
    }
   ],
   "source": [
    "# after we have the model, we can calculate the rmse of training and testing data\n",
    "train_prediction = regr.predict(X_train.values)\n",
    "train_rmse = np.sqrt(np.mean((train_prediction - y_train.values)**2))\n",
    "test_prediction = regr.predict(X_test.values)\n",
    "test_rmse = np.sqrt(np.mean((test_prediction - y_test.values)**2))\n",
    "print(train_rmse, test_rmse)"
   ],
   "metadata": {
    "collapsed": false,
    "ExecuteTime": {
     "end_time": "2023-11-15T16:37:30.569726Z",
     "start_time": "2023-11-15T16:37:30.539386Z"
    }
   },
   "id": "65e035a425095674"
  },
  {
   "cell_type": "code",
   "execution_count": 232,
   "outputs": [
    {
     "data": {
      "text/plain": "                    mass  semi_major_axis  star_luminosity      temp_eq  \\\nHAT-P-2 b    2777.820274          0.06740         3.603693  1537.034936   \nKepler-91 b   232.014737          0.07200        15.272749  2053.457463   \nWASP-133 b    368.680952          0.03450         1.965237  1782.263273   \nWASP-16 b     271.743288          0.04210         0.762333  1268.617802   \nWASP-94 A b   143.658440          0.05500         2.406628  1479.471390   \n...                  ...              ...              ...          ...   \nKepler-9 b     43.510709          0.14300         1.164575   765.636501   \nHD 2685 b     375.037520          0.05680         4.734574  1724.176538   \nHATS-20 b      86.767155          0.04619         0.610133  1187.504126   \nGJ 9827 d       3.813941          0.06270         0.124724   661.134143   \nHD 1502 b     874.028118          1.26200        11.727135   458.940269   \n\n             eccentricity  star_metallicity  star_radius  star_teff  star_mass  \nHAT-P-2 b          0.5171              0.04        1.540     6414.0      1.340  \nKepler-91 b        0.0660              0.11        6.300     4550.0      1.310  \nWASP-133 b         0.1700              0.29        1.440     5700.0      1.160  \nWASP-16 b          0.0000              0.01        0.946     5550.0      1.022  \nWASP-94 A b        0.0000              0.26        1.360     6170.0      1.290  \n...                   ...               ...          ...        ...        ...  \nKepler-9 b         0.0626              0.17        1.100     5722.0      1.000  \nHD 2685 b          0.0000              0.02        1.570     6801.0      1.440  \nHATS-20 b          0.5000              0.03        0.892     5406.0      0.910  \nGJ 9827 d          0.0000             -0.28        0.651     4255.0      0.659  \nHD 1502 b          0.0310              0.09        4.670     4947.0      1.460  \n\n[373 rows x 9 columns]",
      "text/html": "<div>\n<style scoped>\n    .dataframe tbody tr th:only-of-type {\n        vertical-align: middle;\n    }\n\n    .dataframe tbody tr th {\n        vertical-align: top;\n    }\n\n    .dataframe thead th {\n        text-align: right;\n    }\n</style>\n<table border=\"1\" class=\"dataframe\">\n  <thead>\n    <tr style=\"text-align: right;\">\n      <th></th>\n      <th>mass</th>\n      <th>semi_major_axis</th>\n      <th>star_luminosity</th>\n      <th>temp_eq</th>\n      <th>eccentricity</th>\n      <th>star_metallicity</th>\n      <th>star_radius</th>\n      <th>star_teff</th>\n      <th>star_mass</th>\n    </tr>\n  </thead>\n  <tbody>\n    <tr>\n      <th>HAT-P-2 b</th>\n      <td>2777.820274</td>\n      <td>0.06740</td>\n      <td>3.603693</td>\n      <td>1537.034936</td>\n      <td>0.5171</td>\n      <td>0.04</td>\n      <td>1.540</td>\n      <td>6414.0</td>\n      <td>1.340</td>\n    </tr>\n    <tr>\n      <th>Kepler-91 b</th>\n      <td>232.014737</td>\n      <td>0.07200</td>\n      <td>15.272749</td>\n      <td>2053.457463</td>\n      <td>0.0660</td>\n      <td>0.11</td>\n      <td>6.300</td>\n      <td>4550.0</td>\n      <td>1.310</td>\n    </tr>\n    <tr>\n      <th>WASP-133 b</th>\n      <td>368.680952</td>\n      <td>0.03450</td>\n      <td>1.965237</td>\n      <td>1782.263273</td>\n      <td>0.1700</td>\n      <td>0.29</td>\n      <td>1.440</td>\n      <td>5700.0</td>\n      <td>1.160</td>\n    </tr>\n    <tr>\n      <th>WASP-16 b</th>\n      <td>271.743288</td>\n      <td>0.04210</td>\n      <td>0.762333</td>\n      <td>1268.617802</td>\n      <td>0.0000</td>\n      <td>0.01</td>\n      <td>0.946</td>\n      <td>5550.0</td>\n      <td>1.022</td>\n    </tr>\n    <tr>\n      <th>WASP-94 A b</th>\n      <td>143.658440</td>\n      <td>0.05500</td>\n      <td>2.406628</td>\n      <td>1479.471390</td>\n      <td>0.0000</td>\n      <td>0.26</td>\n      <td>1.360</td>\n      <td>6170.0</td>\n      <td>1.290</td>\n    </tr>\n    <tr>\n      <th>...</th>\n      <td>...</td>\n      <td>...</td>\n      <td>...</td>\n      <td>...</td>\n      <td>...</td>\n      <td>...</td>\n      <td>...</td>\n      <td>...</td>\n      <td>...</td>\n    </tr>\n    <tr>\n      <th>Kepler-9 b</th>\n      <td>43.510709</td>\n      <td>0.14300</td>\n      <td>1.164575</td>\n      <td>765.636501</td>\n      <td>0.0626</td>\n      <td>0.17</td>\n      <td>1.100</td>\n      <td>5722.0</td>\n      <td>1.000</td>\n    </tr>\n    <tr>\n      <th>HD 2685 b</th>\n      <td>375.037520</td>\n      <td>0.05680</td>\n      <td>4.734574</td>\n      <td>1724.176538</td>\n      <td>0.0000</td>\n      <td>0.02</td>\n      <td>1.570</td>\n      <td>6801.0</td>\n      <td>1.440</td>\n    </tr>\n    <tr>\n      <th>HATS-20 b</th>\n      <td>86.767155</td>\n      <td>0.04619</td>\n      <td>0.610133</td>\n      <td>1187.504126</td>\n      <td>0.5000</td>\n      <td>0.03</td>\n      <td>0.892</td>\n      <td>5406.0</td>\n      <td>0.910</td>\n    </tr>\n    <tr>\n      <th>GJ 9827 d</th>\n      <td>3.813941</td>\n      <td>0.06270</td>\n      <td>0.124724</td>\n      <td>661.134143</td>\n      <td>0.0000</td>\n      <td>-0.28</td>\n      <td>0.651</td>\n      <td>4255.0</td>\n      <td>0.659</td>\n    </tr>\n    <tr>\n      <th>HD 1502 b</th>\n      <td>874.028118</td>\n      <td>1.26200</td>\n      <td>11.727135</td>\n      <td>458.940269</td>\n      <td>0.0310</td>\n      <td>0.09</td>\n      <td>4.670</td>\n      <td>4947.0</td>\n      <td>1.460</td>\n    </tr>\n  </tbody>\n</table>\n<p>373 rows × 9 columns</p>\n</div>"
     },
     "execution_count": 232,
     "metadata": {},
     "output_type": "execute_result"
    }
   ],
   "source": [
    "X_train"
   ],
   "metadata": {
    "collapsed": false,
    "ExecuteTime": {
     "end_time": "2023-11-15T16:37:30.621338Z",
     "start_time": "2023-11-15T16:37:30.588049Z"
    }
   },
   "id": "f28e5cbe0d7c80e3"
  },
  {
   "cell_type": "code",
   "execution_count": 233,
   "outputs": [],
   "source": [
    "# TODO, they calculate R2 score, what is that\n",
    "# TODO: why they calculate the abs error but didn't give the relative error ??"
   ],
   "metadata": {
    "collapsed": false,
    "ExecuteTime": {
     "end_time": "2023-11-15T16:37:30.623063Z",
     "start_time": "2023-11-15T16:37:30.610688Z"
    }
   },
   "id": "e5d2dd51831eab4e"
  },
  {
   "cell_type": "markdown",
   "source": [
    "## Calculate error bar"
   ],
   "metadata": {
    "collapsed": false
   },
   "id": "aab6d50b8e539994"
  },
  {
   "cell_type": "code",
   "execution_count": 234,
   "outputs": [
    {
     "name": "stdout",
     "output_type": "stream",
     "text": [
      "                     mass  mass_error_min  mass_error_max  semi_major_axis  \\\n",
      "# name                                                                       \n",
      "51 Peg b       149.379351       22.247988        9.534852         0.052000   \n",
      "55 Cnc e         8.590902        0.429068        0.429068         0.015439   \n",
      "BD+20 594 b     16.304597        6.038740        6.038740         0.241000   \n",
      "BD-10 3166 b   146.201067       92.805895       83.271043         0.046000   \n",
      "CoRoT-1 b      327.363259       38.139409       38.139409         0.025400   \n",
      "...                   ...             ...             ...              ...   \n",
      "XO-4 b         513.610705       31.782841       32.100669         0.054850   \n",
      "XO-5 b         342.301194       11.759651       11.759651         0.048700   \n",
      "XO-6 b         603.873973      158.914203      158.914203         0.081500   \n",
      "kappa And b   4131.769286      635.656813     3813.940879       100.000000   \n",
      "tau Boo b     1856.117895      174.805624      314.650123         0.046000   \n",
      "\n",
      "              semi_major_axis_error_min  semi_major_axis_error_max  \\\n",
      "# name                                                               \n",
      "51 Peg b                       0.008060                   0.007880   \n",
      "55 Cnc e                       0.000015                   0.000015   \n",
      "BD+20 594 b                    0.019000                   0.019000   \n",
      "BD-10 3166 b                   0.008060                   0.007880   \n",
      "CoRoT-1 b                      0.000400                   0.000400   \n",
      "...                                 ...                        ...   \n",
      "XO-4 b                         0.000420                   0.000420   \n",
      "XO-5 b                         0.000600                   0.000600   \n",
      "XO-6 b                         0.007700                   0.007700   \n",
      "kappa And b                   46.000000                  27.000000   \n",
      "tau Boo b                      0.008060                   0.007880   \n",
      "\n",
      "              eccentricity  eccentricity_error_min  eccentricity_error_max  \\\n",
      "# name                                                                       \n",
      "51 Peg b            0.0069                  0.0066                  0.0069   \n",
      "55 Cnc e            0.0280                  0.0190                  0.0220   \n",
      "BD+20 594 b         0.0000                  0.1548                  0.1500   \n",
      "BD-10 3166 b        0.0104                  0.0192                  0.0104   \n",
      "CoRoT-1 b           0.0000                  0.1548                  0.1500   \n",
      "...                    ...                     ...                     ...   \n",
      "XO-4 b              0.0000                  0.1548                  0.1500   \n",
      "XO-5 b              0.0000                  0.1548                  0.1500   \n",
      "XO-6 b              0.0000                  0.1548                  0.1500   \n",
      "kappa And b         0.6900                  0.1000                  0.1400   \n",
      "tau Boo b           0.0787                  0.0246                  0.0382   \n",
      "\n",
      "              star_metallicity  ...  radius_error_min  radius_error_max  \\\n",
      "# name                          ...                                       \n",
      "51 Peg b                  0.20  ...          3.362694          3.362694   \n",
      "55 Cnc e                  0.31  ...          0.037998          0.037998   \n",
      "BD+20 594 b              -0.15  ...          0.109848          0.134508   \n",
      "BD-10 3166 b              0.50  ...          1.522180          1.674622   \n",
      "CoRoT-1 b                 0.06  ...          0.896718          0.896718   \n",
      "...                        ...  ...               ...               ...   \n",
      "XO-4 b                   -0.04  ...          0.325060          0.448359   \n",
      "XO-5 b                    0.18  ...          0.560449          0.560449   \n",
      "XO-6 b                   -0.07  ...          2.465976          2.465976   \n",
      "kappa And b              -0.36  ...          1.120898          2.241796   \n",
      "tau Boo b                 0.28  ...          1.522180          1.674622   \n",
      "\n",
      "               mass_error  semi_major_axis_error  eccentricity_error  \\\n",
      "# name                                                                 \n",
      "51 Peg b        15.891420               0.007970             0.00675   \n",
      "55 Cnc e         0.429068               0.000015             0.02050   \n",
      "BD+20 594 b      6.038740               0.019000             0.15240   \n",
      "BD-10 3166 b    88.038469               0.007970             0.01480   \n",
      "CoRoT-1 b       38.139409               0.000400             0.15240   \n",
      "...                   ...                    ...                 ...   \n",
      "XO-4 b          31.941755               0.000420             0.15240   \n",
      "XO-5 b          11.759651               0.000600             0.15240   \n",
      "XO-6 b         158.914203               0.007700             0.15240   \n",
      "kappa And b   2224.798846              36.500000             0.12000   \n",
      "tau Boo b      244.727873               0.007970             0.03140   \n",
      "\n",
      "              star_metallicity_error  star_radius_error  star_teff_error  \\\n",
      "# name                                                                     \n",
      "51 Peg b                        0.07            0.04600             70.0   \n",
      "55 Cnc e                        0.04            0.01600             24.0   \n",
      "BD+20 594 b                     0.05            0.04750             99.0   \n",
      "BD-10 3166 b                    0.14            0.14385            140.0   \n",
      "CoRoT-1 b                       0.07            0.05000             66.0   \n",
      "...                              ...                ...              ...   \n",
      "XO-4 b                          0.03            0.05000             70.0   \n",
      "XO-5 b                          0.03            0.05000             44.0   \n",
      "XO-6 b                          0.10            0.18000            100.0   \n",
      "kappa And b                     0.09            0.06000             66.0   \n",
      "tau Boo b                       0.14            0.02700            140.0   \n",
      "\n",
      "              star_mass_error  radius_error  \n",
      "# name                                       \n",
      "51 Peg b               0.0600      3.362694  \n",
      "55 Cnc e               0.0510      0.037998  \n",
      "BD+20 594 b            0.0305      0.122178  \n",
      "BD-10 3166 b           0.1100      1.598401  \n",
      "CoRoT-1 b              0.1500      0.896718  \n",
      "...                       ...           ...  \n",
      "XO-4 b                 0.0200      0.386710  \n",
      "XO-5 b                 0.0300      0.560449  \n",
      "XO-6 b                 0.0600      2.465976  \n",
      "kappa And b            0.1500      1.681347  \n",
      "tau Boo b              0.1100      1.598401  \n",
      "\n",
      "[501 rows x 32 columns]\n"
     ]
    }
   ],
   "source": [
    "# after we have the model\n",
    "# TODO: the feature is diff with original code\n",
    "features_error = ['mass', 'semi_major_axis','eccentricity', 'star_radius', 'star_teff','star_mass', 'radius']\n",
    "# dataset_error = ld.load_dataset_error(exoplanet_path, features_error, solar_path, solar=True)\n",
    "dataset_error = ld.load_dataset_error(exoplanet_path, solar_path, features_name, solar=True)"
   ],
   "metadata": {
    "collapsed": false,
    "ExecuteTime": {
     "end_time": "2023-11-15T16:37:30.818521Z",
     "start_time": "2023-11-15T16:37:30.618154Z"
    }
   },
   "id": "a80c333663579597"
  },
  {
   "cell_type": "code",
   "execution_count": 235,
   "outputs": [],
   "source": [
    "X_train, X_test, y_train, y_test = train_test_sets\n",
    "# Cross matching the Test set with the dataset with errors\n",
    "# to compute error bars for the exoplanets which have input errors\n",
    "dataset_errors = dataset_error.loc[X_test.index.values.tolist()]"
   ],
   "metadata": {
    "collapsed": false,
    "ExecuteTime": {
     "end_time": "2023-11-15T16:37:30.826435Z",
     "start_time": "2023-11-15T16:37:30.819602Z"
    }
   },
   "id": "1b69b3921f806425"
  },
  {
   "cell_type": "code",
   "execution_count": 236,
   "outputs": [],
   "source": [
    "dataset_errors = dataset_errors.dropna(axis=0, how='any')"
   ],
   "metadata": {
    "collapsed": false,
    "ExecuteTime": {
     "end_time": "2023-11-15T16:37:30.826531Z",
     "start_time": "2023-11-15T16:37:30.823909Z"
    }
   },
   "id": "95a3f32dd52c3349"
  },
  {
   "cell_type": "code",
   "execution_count": 237,
   "outputs": [],
   "source": [
    "# Matrix with all the errors on the different features\n",
    "features_errors = dataset_errors.iloc[:, :-2].values\n",
    "# Radius vector\n",
    "radii_test = dataset_errors.iloc[:, -2].values\n",
    "# Error on the radius vector\n",
    "radii_test_input_error = dataset_errors.iloc[:, -1].values\n",
    "radii_test_output_error = np.zeros([len(radii_test_input_error)])"
   ],
   "metadata": {
    "collapsed": false,
    "ExecuteTime": {
     "end_time": "2023-11-15T16:37:30.834619Z",
     "start_time": "2023-11-15T16:37:30.828217Z"
    }
   },
   "id": "f4aea51c7ff9fb9f"
  },
  {
   "cell_type": "code",
   "execution_count": 238,
   "outputs": [
    {
     "name": "stdout",
     "output_type": "stream",
     "text": [
      "47\n",
      "A ValueError occurred at 47th column, but the script will continue.\n"
     ]
    }
   ],
   "source": [
    "column_names = X_train.columns.tolist()\n",
    "for i in range(125):\n",
    "    try:\n",
    "        normal_sample = mvn(features_errors[i, ::2], np.diag(features_errors[i, 1::2])).rvs(1000)\n",
    "        sample_prediction_std = regr.predict(normal_sample).std()\n",
    "        radii_test_output_error[i] = sample_prediction_std\n",
    "    except ValueError:\n",
    "        print(i)\n",
    "        # This block executes if a ValueError is raised in the try block\n",
    "        print(f\"A ValueError occurred at {i}th column, but the script will continue.\")"
   ],
   "metadata": {
    "collapsed": false,
    "ExecuteTime": {
     "end_time": "2023-11-15T16:37:32.438973Z",
     "start_time": "2023-11-15T16:37:30.831188Z"
    }
   },
   "id": "19a432bc881d6bdb"
  }
 ],
 "metadata": {
  "kernelspec": {
   "display_name": "Python 3",
   "language": "python",
   "name": "python3"
  },
  "language_info": {
   "codemirror_mode": {
    "name": "ipython",
    "version": 2
   },
   "file_extension": ".py",
   "mimetype": "text/x-python",
   "name": "python",
   "nbconvert_exporter": "python",
   "pygments_lexer": "ipython2",
   "version": "2.7.6"
  }
 },
 "nbformat": 4,
 "nbformat_minor": 5
}
