{
 "cells": [
  {
   "cell_type": "code",
   "execution_count": 47,
   "metadata": {
    "ExecuteTime": {
     "end_time": "2023-11-07T23:02:14.216425Z",
     "start_time": "2023-11-07T23:02:14.212520Z"
    }
   },
   "outputs": [],
   "source": [
    "import pandas as pd\n",
    "import numpy as np"
   ]
  },
  {
   "cell_type": "code",
   "execution_count": 48,
   "metadata": {
    "ExecuteTime": {
     "end_time": "2023-11-07T23:02:14.479154Z",
     "start_time": "2023-11-07T23:02:14.406211Z"
    }
   },
   "outputs": [
    {
     "name": "stdout",
     "output_type": "stream",
     "text": [
      "(5529, 97)\n"
     ]
    }
   ],
   "source": [
    "exoplanet_path = '../published_output/exoplanet.eu_catalog_23Nov.csv'\n",
    "\n",
    "dataset_exo = pd.read_csv(exoplanet_path, index_col=0)\n",
    "print(dataset_exo.shape)"
   ]
  },
  {
   "cell_type": "code",
   "execution_count": 49,
   "metadata": {
    "ExecuteTime": {
     "end_time": "2023-11-07T23:02:14.655447Z",
     "start_time": "2023-11-07T23:02:14.650621Z"
    }
   },
   "outputs": [
    {
     "name": "stdout",
     "output_type": "stream",
     "text": [
      "['mass', 'mass_error_min', 'mass_error_max', 'semi_major_axis', 'semi_major_axis_error_min', 'semi_major_axis_error_max', 'eccentricity', 'eccentricity_error_min', 'eccentricity_error_max', 'star_radius', 'star_radius_error_min', 'star_radius_error_max', 'star_teff', 'star_teff_error_min', 'star_teff_error_max', 'star_mass', 'star_mass_error_min', 'star_mass_error_max', 'radius', 'radius_error_min', 'radius_error_max']\n",
      "{'mass': ['mass_error'], 'semi_major_axis': ['semi_major_axis_error'], 'eccentricity': ['eccentricity_error'], 'star_radius': ['star_radius_error'], 'star_teff': ['star_teff_error'], 'star_mass': ['star_mass_error'], 'radius': ['radius_error']}\n"
     ]
    }
   ],
   "source": [
    "features = ['mass', 'semi_major_axis','eccentricity', 'star_radius', 'star_teff','star_mass', 'radius']\n",
    "features_error_range_list = [f for feature in features for f in (feature, f\"{feature}_error_min\", f\"{feature}_error_max\")]\n",
    "features_error_range_dir = {feature: [f\"{feature}_error_min\", f\"{feature}_error_max\"] for feature in features}\n",
    "features_error_list = [f for feature in features for f in (feature, f\"{feature}_error\")]\n",
    "features_error_dir = {feature: [f\"{feature}_error\"] for feature in features}\n",
    "print(features_error_range_list)\n",
    "print(features_error_dir)"
   ]
  },
  {
   "cell_type": "code",
   "execution_count": 50,
   "metadata": {
    "ExecuteTime": {
     "end_time": "2023-11-07T23:02:14.935179Z",
     "start_time": "2023-11-07T23:02:14.926295Z"
    }
   },
   "outputs": [
    {
     "name": "stdout",
     "output_type": "stream",
     "text": [
      "mass\n",
      "semi_major_axis\n",
      "eccentricity\n",
      "star_radius\n",
      "star_teff\n",
      "star_mass\n",
      "radius\n",
      "mass\n",
      "semi_major_axis\n",
      "eccentricity\n",
      "star_radius\n",
      "star_teff\n",
      "star_mass\n",
      "radius\n"
     ]
    }
   ],
   "source": [
    "for key in features_error_dir:\n",
    "    print(key)\n",
    "\n",
    "for key in features_error_range_dir:\n",
    "    print(key)"
   ]
  },
  {
   "cell_type": "code",
   "execution_count": 51,
   "metadata": {
    "ExecuteTime": {
     "end_time": "2023-11-07T23:02:15.271019Z",
     "start_time": "2023-11-07T23:02:15.266691Z"
    }
   },
   "outputs": [],
   "source": [
    "dataset_exo = dataset_exo[features_error_range_list]\n",
    "dataset_exo = dataset_exo.dropna(subset=features)"
   ]
  },
  {
   "cell_type": "code",
   "execution_count": 52,
   "metadata": {
    "ExecuteTime": {
     "end_time": "2023-11-07T23:02:15.676078Z",
     "start_time": "2023-11-07T23:02:15.647692Z"
    }
   },
   "outputs": [
    {
     "name": "stdout",
     "output_type": "stream",
     "text": [
      "mass_error_min\n",
      "mass_error_max\n",
      "semi_major_axis_error_min\n",
      "semi_major_axis_error_max\n",
      "eccentricity_error_min\n",
      "eccentricity_error_max\n",
      "star_radius_error_min\n",
      "star_radius_error_max\n",
      "star_teff_error_min\n",
      "star_teff_error_max\n",
      "star_mass_error_min\n",
      "star_mass_error_max\n",
      "radius_error_min\n",
      "radius_error_max\n"
     ]
    }
   ],
   "source": [
    "for key in features_error_range_dir:\n",
    "    for feature in features_error_range_dir[key]:\n",
    "        print(feature)\n",
    "        max_error = dataset_exo[feature].quantile(0.9)\n",
    "        dataset_exo[feature] = dataset_exo[feature].replace(np.nan, max_error)"
   ]
  },
  {
   "cell_type": "code",
   "execution_count": 52,
   "metadata": {
    "ExecuteTime": {
     "end_time": "2023-11-07T23:02:16.208862Z",
     "start_time": "2023-11-07T23:02:16.203789Z"
    }
   },
   "outputs": [],
   "source": []
  },
  {
   "cell_type": "code",
   "execution_count": 53,
   "metadata": {
    "ExecuteTime": {
     "end_time": "2023-11-07T23:02:16.745209Z",
     "start_time": "2023-11-07T23:02:16.739759Z"
    }
   },
   "outputs": [],
   "source": [
    "mass_and_radii_features = ['mass', 'mass_error_max', 'mass_error_min', 'radius', 'radius_error_max', 'radius_error_min']\n"
   ]
  },
  {
   "cell_type": "code",
   "execution_count": 54,
   "metadata": {
    "ExecuteTime": {
     "end_time": "2023-11-07T23:02:17.246743Z",
     "start_time": "2023-11-07T23:02:17.236011Z"
    }
   },
   "outputs": [],
   "source": [
    "from astropy.units import earthMass, jupiterMass, earthRad, jupiterRad, solMass, solRad, AU"
   ]
  },
  {
   "cell_type": "code",
   "execution_count": 55,
   "metadata": {
    "ExecuteTime": {
     "end_time": "2023-11-07T23:02:17.671288Z",
     "start_time": "2023-11-07T23:02:17.659845Z"
    }
   },
   "outputs": [],
   "source": [
    "def jupiter_to_earth(dataset, feature):\n",
    "    assert feature in ['mass', 'mass_error_max', 'mass_error_min', 'radius', 'radius_error_max', 'radius_error_min']\n",
    "    if 'radius' in feature:\n",
    "        df = dataset[feature].apply(lambda x:(x*jupiterRad).to('earthRad').value)\n",
    "    elif 'mass' in feature:\n",
    "        df = dataset[feature].apply(lambda x:(x*jupiterMass).to('earthMass').value)\n",
    "    new_df = pd.DataFrame({feature: df})\n",
    "    dataset.update(new_df)\n",
    "    return dataset"
   ]
  },
  {
   "cell_type": "code",
   "execution_count": 56,
   "metadata": {
    "ExecuteTime": {
     "end_time": "2023-11-07T23:02:18.277594Z",
     "start_time": "2023-11-07T23:02:18.181883Z"
    }
   },
   "outputs": [],
   "source": [
    "for mr_feature in mass_and_radii_features:\n",
    "    dataset_exo = jupiter_to_earth(dataset_exo, mr_feature)"
   ]
  },
  {
   "cell_type": "code",
   "execution_count": 56,
   "metadata": {
    "ExecuteTime": {
     "end_time": "2023-11-07T23:02:24.090869Z",
     "start_time": "2023-11-07T23:02:24.081543Z"
    }
   },
   "outputs": [],
   "source": []
  },
  {
   "cell_type": "code",
   "execution_count": 57,
   "outputs": [],
   "source": [
    "dataset_exo['mass_error'] = dataset_exo[['mass_error_min', 'mass_error_max']].mean(axis=1).abs()"
   ],
   "metadata": {
    "collapsed": false,
    "ExecuteTime": {
     "end_time": "2023-11-07T23:02:24.820749Z",
     "start_time": "2023-11-07T23:02:24.810265Z"
    }
   }
  },
  {
   "cell_type": "code",
   "execution_count": 58,
   "metadata": {
    "ExecuteTime": {
     "end_time": "2023-11-07T23:02:27.612231Z",
     "start_time": "2023-11-07T23:02:27.560663Z"
    }
   },
   "outputs": [
    {
     "name": "stdout",
     "output_type": "stream",
     "text": [
      "['mass_error'] ['mass_error_min', 'mass_error_max']\n",
      "(938,)\n",
      "name\n",
      "2M 2140+16 b    6356.568132\n",
      "2M 2206-20 b    6356.568132\n",
      "51 Peg b          22.247988\n",
      "55 Cnc e           0.429068\n",
      "AF Lep b         190.697044\n",
      "                   ...     \n",
      "XO-3 b           187.518760\n",
      "XO-4 b            31.782841\n",
      "XO-5 b            11.759651\n",
      "XO-6 b           158.914203\n",
      "XO-7 b            12.077479\n",
      "Length: 938, dtype: float64\n",
      "(938, 22)\n",
      "['semi_major_axis_error'] ['semi_major_axis_error_min', 'semi_major_axis_error_max']\n",
      "(938,)\n",
      "name\n",
      "2M 2140+16 b    0.150000\n",
      "2M 2206-20 b    0.400000\n",
      "51 Peg b        0.007550\n",
      "55 Cnc e        0.000015\n",
      "AF Lep b        1.700000\n",
      "                  ...   \n",
      "XO-3 b          0.000820\n",
      "XO-4 b          0.000420\n",
      "XO-5 b          0.000600\n",
      "XO-6 b          0.007700\n",
      "XO-7 b          0.000720\n",
      "Length: 938, dtype: float64\n",
      "(938, 22)\n",
      "['eccentricity_error'] ['eccentricity_error_min', 'eccentricity_error_max']\n",
      "(938,)\n",
      "name\n",
      "2M 2140+16 b    0.0600\n",
      "2M 2206-20 b    0.1918\n",
      "51 Peg b        0.0066\n",
      "55 Cnc e        0.0190\n",
      "AF Lep b        0.4000\n",
      "                 ...  \n",
      "XO-3 b          0.0170\n",
      "XO-4 b          0.1918\n",
      "XO-5 b          0.1918\n",
      "XO-6 b          0.1918\n",
      "XO-7 b          0.0330\n",
      "Length: 938, dtype: float64\n",
      "(938, 23)\n",
      "['star_radius_error'] ['star_radius_error_min', 'star_radius_error_max']\n",
      "(938,)\n",
      "name\n",
      "2M 2140+16 b    0.043\n",
      "2M 2206-20 b    0.015\n",
      "51 Peg b        0.046\n",
      "55 Cnc e        0.016\n",
      "AF Lep b        0.060\n",
      "                ...  \n",
      "XO-3 b          0.080\n",
      "XO-4 b          0.050\n",
      "XO-5 b          0.050\n",
      "XO-6 b          0.180\n",
      "XO-7 b          0.022\n",
      "Length: 938, dtype: float64\n",
      "(938, 24)\n",
      "['star_teff_error'] ['star_teff_error_min', 'star_teff_error_max']\n",
      "(938,)\n",
      "name\n",
      "2M 2140+16 b     80.0\n",
      "2M 2206-20 b     80.0\n",
      "51 Peg b         70.0\n",
      "55 Cnc e         24.0\n",
      "AF Lep b         60.0\n",
      "                ...  \n",
      "XO-3 b           44.0\n",
      "XO-4 b           70.0\n",
      "XO-5 b           44.0\n",
      "XO-6 b          100.0\n",
      "XO-7 b          450.0\n",
      "Length: 938, dtype: float64\n",
      "(938, 25)\n",
      "['star_mass_error'] ['star_mass_error_min', 'star_mass_error_max']\n",
      "(938,)\n",
      "name\n",
      "2M 2140+16 b    0.060\n",
      "2M 2206-20 b    0.050\n",
      "51 Peg b        0.060\n",
      "55 Cnc e        0.051\n",
      "AF Lep b        0.060\n",
      "                ...  \n",
      "XO-3 b          0.080\n",
      "XO-4 b          0.020\n",
      "XO-5 b          0.030\n",
      "XO-6 b          0.060\n",
      "XO-7 b          0.059\n",
      "Length: 938, dtype: float64\n",
      "(938, 26)\n",
      "['radius_error'] ['radius_error_min', 'radius_error_max']\n",
      "(938,)\n",
      "name\n",
      "2M 2140+16 b    4.371502\n",
      "2M 2206-20 b    2.017617\n",
      "51 Peg b        3.362694\n",
      "55 Cnc e        0.037998\n",
      "AF Lep b        6.725388\n",
      "                  ...   \n",
      "XO-3 b          0.818256\n",
      "XO-4 b          0.325060\n",
      "XO-5 b          0.560449\n",
      "XO-6 b          2.465976\n",
      "XO-7 b          0.224180\n",
      "Length: 938, dtype: float64\n",
      "(938, 27)\n"
     ]
    }
   ],
   "source": [
    "for key in features_error_range_dir:\n",
    "    \n",
    "    # print(dataset_exo[features_error_range_dir[key]])\n",
    "    print(features_error_dir[key], features_error_range_dir[key])\n",
    "    print(dataset_exo[features_error_range_dir[key]].mean(axis=1).shape)\n",
    "    print(dataset_exo[features_error_range_dir[key]].mean(axis=1))\n",
    "    print(dataset_exo.shape)\n",
    "    dataset_exo[features_error_dir[key][0]] = dataset_exo[features_error_range_dir[key]].mean(axis=1).abs()\n",
    "        "
   ]
  },
  {
   "cell_type": "code",
   "execution_count": 59,
   "outputs": [],
   "source": [
    "dataset_exo = dataset_exo[features_error_list]"
   ],
   "metadata": {
    "collapsed": false,
    "ExecuteTime": {
     "end_time": "2023-11-07T23:03:03.488778Z",
     "start_time": "2023-11-07T23:03:03.468725Z"
    }
   }
  },
  {
   "cell_type": "code",
   "execution_count": 60,
   "outputs": [
    {
     "data": {
      "text/plain": "                     mass   mass_error  semi_major_axis  \\\nname                                                      \n2M 2140+16 b  6356.568132  6356.568132         3.530000   \n2M 2206-20 b  9534.852198  6356.568132         4.480000   \n51 Peg b       149.379351    22.247988         0.052000   \n55 Cnc e         8.590902     0.429068         0.015439   \nAF Lep b       889.919538   190.697044         8.200000   \n...                   ...          ...              ...   \nXO-3 b        3747.196914   187.518760         0.045400   \nXO-4 b         513.610705    31.782841         0.054850   \nXO-5 b         342.301194    11.759651         0.048700   \nXO-6 b         603.873973   158.914203         0.081500   \nXO-7 b         230.743423    12.077479         0.043290   \n\n              semi_major_axis_error  eccentricity  eccentricity_error  \\\nname                                                                    \n2M 2140+16 b               0.150000        0.2600              0.0600   \n2M 2206-20 b               0.400000        0.0000              0.1918   \n51 Peg b                   0.007550        0.0069              0.0066   \n55 Cnc e                   0.000015        0.0280              0.0190   \nAF Lep b                   1.700000        0.0400              0.4000   \n...                             ...           ...                 ...   \nXO-3 b                     0.000820        0.2600              0.0170   \nXO-4 b                     0.000420        0.0000              0.1918   \nXO-5 b                     0.000600        0.0000              0.1918   \nXO-6 b                     0.007700        0.0000              0.1918   \nXO-7 b                     0.000720        0.0380              0.0330   \n\n              star_radius  star_radius_error  star_teff  star_teff_error  \\\nname                                                                       \n2M 2140+16 b        0.100              0.043     2300.0             80.0   \n2M 2206-20 b        0.110              0.015     2350.0             80.0   \n51 Peg b            1.266              0.046     5793.0             70.0   \n55 Cnc e            0.980              0.016     5196.0             24.0   \nAF Lep b            1.250              0.060     6130.0             60.0   \n...                   ...                ...        ...              ...   \nXO-3 b              1.490              0.080     6781.0             44.0   \nXO-4 b              1.550              0.050     5700.0             70.0   \nXO-5 b              1.060              0.050     5510.0             44.0   \nXO-6 b              1.930              0.180     6720.0            100.0   \nXO-7 b              1.480              0.022     6000.0            450.0   \n\n              star_mass  star_mass_error     radius  radius_error  \nname                                                               \n2M 2140+16 b      0.080            0.060  10.312262      4.371502  \n2M 2206-20 b      0.130            0.050  14.571675      2.017617  \n51 Peg b          1.110            0.060  21.297063      3.362694  \n55 Cnc e          1.015            0.051   1.947000      0.037998  \nAF Lep b          1.200            0.060  14.907944      6.725388  \n...                 ...              ...        ...           ...  \nXO-3 b            1.410            0.080  13.641330      0.818256  \nXO-4 b            1.320            0.020  14.762228      0.325060  \nXO-5 b            0.880            0.030  11.545250      0.560449  \nXO-6 b            1.470            0.060  23.202590      2.465976  \nXO-7 b            1.405            0.059  15.087288      0.224180  \n\n[938 rows x 14 columns]",
      "text/html": "<div>\n<style scoped>\n    .dataframe tbody tr th:only-of-type {\n        vertical-align: middle;\n    }\n\n    .dataframe tbody tr th {\n        vertical-align: top;\n    }\n\n    .dataframe thead th {\n        text-align: right;\n    }\n</style>\n<table border=\"1\" class=\"dataframe\">\n  <thead>\n    <tr style=\"text-align: right;\">\n      <th></th>\n      <th>mass</th>\n      <th>mass_error</th>\n      <th>semi_major_axis</th>\n      <th>semi_major_axis_error</th>\n      <th>eccentricity</th>\n      <th>eccentricity_error</th>\n      <th>star_radius</th>\n      <th>star_radius_error</th>\n      <th>star_teff</th>\n      <th>star_teff_error</th>\n      <th>star_mass</th>\n      <th>star_mass_error</th>\n      <th>radius</th>\n      <th>radius_error</th>\n    </tr>\n    <tr>\n      <th>name</th>\n      <th></th>\n      <th></th>\n      <th></th>\n      <th></th>\n      <th></th>\n      <th></th>\n      <th></th>\n      <th></th>\n      <th></th>\n      <th></th>\n      <th></th>\n      <th></th>\n      <th></th>\n      <th></th>\n    </tr>\n  </thead>\n  <tbody>\n    <tr>\n      <th>2M 2140+16 b</th>\n      <td>6356.568132</td>\n      <td>6356.568132</td>\n      <td>3.530000</td>\n      <td>0.150000</td>\n      <td>0.2600</td>\n      <td>0.0600</td>\n      <td>0.100</td>\n      <td>0.043</td>\n      <td>2300.0</td>\n      <td>80.0</td>\n      <td>0.080</td>\n      <td>0.060</td>\n      <td>10.312262</td>\n      <td>4.371502</td>\n    </tr>\n    <tr>\n      <th>2M 2206-20 b</th>\n      <td>9534.852198</td>\n      <td>6356.568132</td>\n      <td>4.480000</td>\n      <td>0.400000</td>\n      <td>0.0000</td>\n      <td>0.1918</td>\n      <td>0.110</td>\n      <td>0.015</td>\n      <td>2350.0</td>\n      <td>80.0</td>\n      <td>0.130</td>\n      <td>0.050</td>\n      <td>14.571675</td>\n      <td>2.017617</td>\n    </tr>\n    <tr>\n      <th>51 Peg b</th>\n      <td>149.379351</td>\n      <td>22.247988</td>\n      <td>0.052000</td>\n      <td>0.007550</td>\n      <td>0.0069</td>\n      <td>0.0066</td>\n      <td>1.266</td>\n      <td>0.046</td>\n      <td>5793.0</td>\n      <td>70.0</td>\n      <td>1.110</td>\n      <td>0.060</td>\n      <td>21.297063</td>\n      <td>3.362694</td>\n    </tr>\n    <tr>\n      <th>55 Cnc e</th>\n      <td>8.590902</td>\n      <td>0.429068</td>\n      <td>0.015439</td>\n      <td>0.000015</td>\n      <td>0.0280</td>\n      <td>0.0190</td>\n      <td>0.980</td>\n      <td>0.016</td>\n      <td>5196.0</td>\n      <td>24.0</td>\n      <td>1.015</td>\n      <td>0.051</td>\n      <td>1.947000</td>\n      <td>0.037998</td>\n    </tr>\n    <tr>\n      <th>AF Lep b</th>\n      <td>889.919538</td>\n      <td>190.697044</td>\n      <td>8.200000</td>\n      <td>1.700000</td>\n      <td>0.0400</td>\n      <td>0.4000</td>\n      <td>1.250</td>\n      <td>0.060</td>\n      <td>6130.0</td>\n      <td>60.0</td>\n      <td>1.200</td>\n      <td>0.060</td>\n      <td>14.907944</td>\n      <td>6.725388</td>\n    </tr>\n    <tr>\n      <th>...</th>\n      <td>...</td>\n      <td>...</td>\n      <td>...</td>\n      <td>...</td>\n      <td>...</td>\n      <td>...</td>\n      <td>...</td>\n      <td>...</td>\n      <td>...</td>\n      <td>...</td>\n      <td>...</td>\n      <td>...</td>\n      <td>...</td>\n      <td>...</td>\n    </tr>\n    <tr>\n      <th>XO-3 b</th>\n      <td>3747.196914</td>\n      <td>187.518760</td>\n      <td>0.045400</td>\n      <td>0.000820</td>\n      <td>0.2600</td>\n      <td>0.0170</td>\n      <td>1.490</td>\n      <td>0.080</td>\n      <td>6781.0</td>\n      <td>44.0</td>\n      <td>1.410</td>\n      <td>0.080</td>\n      <td>13.641330</td>\n      <td>0.818256</td>\n    </tr>\n    <tr>\n      <th>XO-4 b</th>\n      <td>513.610705</td>\n      <td>31.782841</td>\n      <td>0.054850</td>\n      <td>0.000420</td>\n      <td>0.0000</td>\n      <td>0.1918</td>\n      <td>1.550</td>\n      <td>0.050</td>\n      <td>5700.0</td>\n      <td>70.0</td>\n      <td>1.320</td>\n      <td>0.020</td>\n      <td>14.762228</td>\n      <td>0.325060</td>\n    </tr>\n    <tr>\n      <th>XO-5 b</th>\n      <td>342.301194</td>\n      <td>11.759651</td>\n      <td>0.048700</td>\n      <td>0.000600</td>\n      <td>0.0000</td>\n      <td>0.1918</td>\n      <td>1.060</td>\n      <td>0.050</td>\n      <td>5510.0</td>\n      <td>44.0</td>\n      <td>0.880</td>\n      <td>0.030</td>\n      <td>11.545250</td>\n      <td>0.560449</td>\n    </tr>\n    <tr>\n      <th>XO-6 b</th>\n      <td>603.873973</td>\n      <td>158.914203</td>\n      <td>0.081500</td>\n      <td>0.007700</td>\n      <td>0.0000</td>\n      <td>0.1918</td>\n      <td>1.930</td>\n      <td>0.180</td>\n      <td>6720.0</td>\n      <td>100.0</td>\n      <td>1.470</td>\n      <td>0.060</td>\n      <td>23.202590</td>\n      <td>2.465976</td>\n    </tr>\n    <tr>\n      <th>XO-7 b</th>\n      <td>230.743423</td>\n      <td>12.077479</td>\n      <td>0.043290</td>\n      <td>0.000720</td>\n      <td>0.0380</td>\n      <td>0.0330</td>\n      <td>1.480</td>\n      <td>0.022</td>\n      <td>6000.0</td>\n      <td>450.0</td>\n      <td>1.405</td>\n      <td>0.059</td>\n      <td>15.087288</td>\n      <td>0.224180</td>\n    </tr>\n  </tbody>\n</table>\n<p>938 rows × 14 columns</p>\n</div>"
     },
     "execution_count": 60,
     "metadata": {},
     "output_type": "execute_result"
    }
   ],
   "source": [
    "dataset_exo"
   ],
   "metadata": {
    "collapsed": false,
    "ExecuteTime": {
     "end_time": "2023-11-07T23:03:07.372176Z",
     "start_time": "2023-11-07T23:03:07.363745Z"
    }
   }
  },
  {
   "cell_type": "code",
   "execution_count": 73,
   "metadata": {},
   "outputs": [
    {
     "name": "stdout",
     "output_type": "stream",
     "text": [
      "(8, 17)\n"
     ]
    }
   ],
   "source": [
    "solar_path = '../published_output/solar_system_planets_catalog.csv'\n",
    "\n",
    "dataset_solar = pd.read_csv(solar_path, index_col=0)\n",
    "print(dataset_solar.shape)"
   ]
  },
  {
   "cell_type": "code",
   "execution_count": 74,
   "metadata": {},
   "outputs": [
    {
     "name": "stdout",
     "output_type": "stream",
     "text": [
      "['mass', 'mass_error', 'semi_major_axis', 'semi_major_axis_error', 'eccentricity', 'eccentricity_error', 'star_radius', 'star_radius_error', 'star_teff', 'star_teff_error', 'star_mass', 'star_mass_error', 'radius', 'radius_error']\n"
     ]
    }
   ],
   "source": [
    "solar_features_error = [f for feature in features for f in (feature, f\"{feature}_error\")]\n",
    "print(solar_features_error)"
   ]
  },
  {
   "cell_type": "code",
   "execution_count": 75,
   "metadata": {},
   "outputs": [
    {
     "data": {
      "text/plain": [
       "(8, 14)"
      ]
     },
     "execution_count": 75,
     "metadata": {},
     "output_type": "execute_result"
    }
   ],
   "source": [
    "dataset_solar = dataset_solar[solar_features_error]\n",
    "dataset_solar.shape"
   ]
  },
  {
   "cell_type": "code",
   "execution_count": 76,
   "metadata": {},
   "outputs": [
    {
     "data": {
      "text/plain": [
       "(8, 14)"
      ]
     },
     "execution_count": 76,
     "metadata": {},
     "output_type": "execute_result"
    }
   ],
   "source": [
    "dataset_solar = dataset_solar.dropna(subset=features)\n",
    "dataset_solar.shape"
   ]
  },
  {
   "cell_type": "code",
   "execution_count": 77,
   "metadata": {},
   "outputs": [],
   "source": [
    "if (np.inf in dataset_exo):\n",
    "    dataset_exo = dataset_exo.replace([np.inf, -np.inf], np.nan)    "
   ]
  },
  {
   "cell_type": "code",
   "execution_count": 78,
   "metadata": {},
   "outputs": [],
   "source": [
    "## don't understand this part"
   ]
  },
  {
   "cell_type": "code",
   "execution_count": 79,
   "metadata": {},
   "outputs": [
    {
     "name": "stdout",
     "output_type": "stream",
     "text": [
      "93.75937994542906\n",
      "93.75937994542906\n",
      "1.2329878804032548\n",
      "1.2329878804032548\n",
      "0.007549999999999999\n",
      "0.007549999999999999\n",
      "0.17937189999999986\n",
      "0.17937189999999986\n",
      "0.1\n",
      "0.1\n",
      "0.12\n",
      "0.12\n",
      "148.79999999999995\n",
      "148.79999999999995\n"
     ]
    }
   ],
   "source": [
    "\n",
    "error_columns = ['mass_error_min', 'mass_error_max',\n",
    "                     'radius_error_min', 'radius_error_max',\n",
    "                     'semi_major_axis_error_min', 'semi_major_axis_error_max',\n",
    "                     'eccentricity_error_min', 'eccentricity_error_max',\n",
    "                     'star_mass_error_min', 'star_mass_error_max',\n",
    "                     'star_radius_error_min', 'star_radius_error_max',\n",
    "                     'star_teff_error_min', 'star_teff_error_max']\n",
    "for error_col in error_columns:\n",
    "    max_error = dataset_exo[error_col].quantile(0.9)\n",
    "    print(max_error)"
   ]
  },
  {
   "cell_type": "code",
   "execution_count": 80,
   "metadata": {},
   "outputs": [
    {
     "data": {
      "text/plain": [
       "False"
      ]
     },
     "execution_count": 80,
     "metadata": {},
     "output_type": "execute_result"
    }
   ],
   "source": [
    "np.nan in dataset_exo"
   ]
  },
  {
   "cell_type": "code",
   "execution_count": 81,
   "metadata": {},
   "outputs": [
    {
     "data": {
      "text/html": [
       "<div>\n",
       "<style scoped>\n",
       "    .dataframe tbody tr th:only-of-type {\n",
       "        vertical-align: middle;\n",
       "    }\n",
       "\n",
       "    .dataframe tbody tr th {\n",
       "        vertical-align: top;\n",
       "    }\n",
       "\n",
       "    .dataframe thead th {\n",
       "        text-align: right;\n",
       "    }\n",
       "</style>\n",
       "<table border=\"1\" class=\"dataframe\">\n",
       "  <thead>\n",
       "    <tr style=\"text-align: right;\">\n",
       "      <th></th>\n",
       "      <th>mass</th>\n",
       "      <th>semi_major_axis</th>\n",
       "      <th>eccentricity</th>\n",
       "      <th>star_radius</th>\n",
       "      <th>star_teff</th>\n",
       "      <th>star_mass</th>\n",
       "      <th>radius</th>\n",
       "      <th>mass_error_min</th>\n",
       "      <th>mass_error_max</th>\n",
       "      <th>semi_major_axis_error_min</th>\n",
       "      <th>...</th>\n",
       "      <th>eccentricity_error_min</th>\n",
       "      <th>eccentricity_error_max</th>\n",
       "      <th>star_radius_error_min</th>\n",
       "      <th>star_radius_error_max</th>\n",
       "      <th>star_teff_error_min</th>\n",
       "      <th>star_teff_error_max</th>\n",
       "      <th>star_mass_error_min</th>\n",
       "      <th>star_mass_error_max</th>\n",
       "      <th>radius_error_min</th>\n",
       "      <th>radius_error_max</th>\n",
       "    </tr>\n",
       "    <tr>\n",
       "      <th>name</th>\n",
       "      <th></th>\n",
       "      <th></th>\n",
       "      <th></th>\n",
       "      <th></th>\n",
       "      <th></th>\n",
       "      <th></th>\n",
       "      <th></th>\n",
       "      <th></th>\n",
       "      <th></th>\n",
       "      <th></th>\n",
       "      <th></th>\n",
       "      <th></th>\n",
       "      <th></th>\n",
       "      <th></th>\n",
       "      <th></th>\n",
       "      <th></th>\n",
       "      <th></th>\n",
       "      <th></th>\n",
       "      <th></th>\n",
       "      <th></th>\n",
       "      <th></th>\n",
       "    </tr>\n",
       "  </thead>\n",
       "  <tbody>\n",
       "    <tr>\n",
       "      <th>2M 2140+16 b</th>\n",
       "      <td>6356.568132</td>\n",
       "      <td>3.530000</td>\n",
       "      <td>0.2600</td>\n",
       "      <td>0.100</td>\n",
       "      <td>2300.0</td>\n",
       "      <td>0.080</td>\n",
       "      <td>10.312262</td>\n",
       "      <td>6356.568132</td>\n",
       "      <td>6356.568132</td>\n",
       "      <td>0.150000</td>\n",
       "      <td>...</td>\n",
       "      <td>0.060000</td>\n",
       "      <td>0.060000</td>\n",
       "      <td>0.043</td>\n",
       "      <td>0.043</td>\n",
       "      <td>80.0</td>\n",
       "      <td>80.0</td>\n",
       "      <td>0.060</td>\n",
       "      <td>0.060</td>\n",
       "      <td>4.371502</td>\n",
       "      <td>4.371502</td>\n",
       "    </tr>\n",
       "    <tr>\n",
       "      <th>2M 2206-20 b</th>\n",
       "      <td>9534.852198</td>\n",
       "      <td>4.480000</td>\n",
       "      <td>0.0000</td>\n",
       "      <td>0.110</td>\n",
       "      <td>2350.0</td>\n",
       "      <td>0.130</td>\n",
       "      <td>14.571675</td>\n",
       "      <td>6356.568132</td>\n",
       "      <td>6356.568132</td>\n",
       "      <td>0.400000</td>\n",
       "      <td>...</td>\n",
       "      <td>0.179372</td>\n",
       "      <td>0.179372</td>\n",
       "      <td>0.015</td>\n",
       "      <td>0.015</td>\n",
       "      <td>80.0</td>\n",
       "      <td>80.0</td>\n",
       "      <td>0.050</td>\n",
       "      <td>0.050</td>\n",
       "      <td>2.017617</td>\n",
       "      <td>2.017617</td>\n",
       "    </tr>\n",
       "    <tr>\n",
       "      <th>51 Peg b</th>\n",
       "      <td>149.379351</td>\n",
       "      <td>0.052000</td>\n",
       "      <td>0.0069</td>\n",
       "      <td>1.266</td>\n",
       "      <td>5793.0</td>\n",
       "      <td>1.110</td>\n",
       "      <td>21.297063</td>\n",
       "      <td>22.247988</td>\n",
       "      <td>22.247988</td>\n",
       "      <td>0.007550</td>\n",
       "      <td>...</td>\n",
       "      <td>0.006600</td>\n",
       "      <td>0.006600</td>\n",
       "      <td>0.046</td>\n",
       "      <td>0.046</td>\n",
       "      <td>70.0</td>\n",
       "      <td>70.0</td>\n",
       "      <td>0.060</td>\n",
       "      <td>0.060</td>\n",
       "      <td>3.362694</td>\n",
       "      <td>3.362694</td>\n",
       "    </tr>\n",
       "    <tr>\n",
       "      <th>55 Cnc e</th>\n",
       "      <td>8.590902</td>\n",
       "      <td>0.015439</td>\n",
       "      <td>0.0280</td>\n",
       "      <td>0.980</td>\n",
       "      <td>5196.0</td>\n",
       "      <td>1.015</td>\n",
       "      <td>1.947000</td>\n",
       "      <td>0.429068</td>\n",
       "      <td>0.429068</td>\n",
       "      <td>0.000015</td>\n",
       "      <td>...</td>\n",
       "      <td>0.019000</td>\n",
       "      <td>0.019000</td>\n",
       "      <td>0.016</td>\n",
       "      <td>0.016</td>\n",
       "      <td>24.0</td>\n",
       "      <td>24.0</td>\n",
       "      <td>0.051</td>\n",
       "      <td>0.051</td>\n",
       "      <td>0.037998</td>\n",
       "      <td>0.037998</td>\n",
       "    </tr>\n",
       "    <tr>\n",
       "      <th>AF Lep b</th>\n",
       "      <td>889.919538</td>\n",
       "      <td>8.200000</td>\n",
       "      <td>0.0400</td>\n",
       "      <td>1.250</td>\n",
       "      <td>6130.0</td>\n",
       "      <td>1.200</td>\n",
       "      <td>14.907944</td>\n",
       "      <td>190.697044</td>\n",
       "      <td>190.697044</td>\n",
       "      <td>1.700000</td>\n",
       "      <td>...</td>\n",
       "      <td>0.400000</td>\n",
       "      <td>0.400000</td>\n",
       "      <td>0.060</td>\n",
       "      <td>0.060</td>\n",
       "      <td>60.0</td>\n",
       "      <td>60.0</td>\n",
       "      <td>0.060</td>\n",
       "      <td>0.060</td>\n",
       "      <td>6.725388</td>\n",
       "      <td>6.725388</td>\n",
       "    </tr>\n",
       "    <tr>\n",
       "      <th>...</th>\n",
       "      <td>...</td>\n",
       "      <td>...</td>\n",
       "      <td>...</td>\n",
       "      <td>...</td>\n",
       "      <td>...</td>\n",
       "      <td>...</td>\n",
       "      <td>...</td>\n",
       "      <td>...</td>\n",
       "      <td>...</td>\n",
       "      <td>...</td>\n",
       "      <td>...</td>\n",
       "      <td>...</td>\n",
       "      <td>...</td>\n",
       "      <td>...</td>\n",
       "      <td>...</td>\n",
       "      <td>...</td>\n",
       "      <td>...</td>\n",
       "      <td>...</td>\n",
       "      <td>...</td>\n",
       "      <td>...</td>\n",
       "      <td>...</td>\n",
       "    </tr>\n",
       "    <tr>\n",
       "      <th>XO-3 b</th>\n",
       "      <td>3747.196914</td>\n",
       "      <td>0.045400</td>\n",
       "      <td>0.2600</td>\n",
       "      <td>1.490</td>\n",
       "      <td>6781.0</td>\n",
       "      <td>1.410</td>\n",
       "      <td>13.641330</td>\n",
       "      <td>187.518760</td>\n",
       "      <td>187.518760</td>\n",
       "      <td>0.000820</td>\n",
       "      <td>...</td>\n",
       "      <td>0.017000</td>\n",
       "      <td>0.017000</td>\n",
       "      <td>0.080</td>\n",
       "      <td>0.080</td>\n",
       "      <td>44.0</td>\n",
       "      <td>44.0</td>\n",
       "      <td>0.080</td>\n",
       "      <td>0.080</td>\n",
       "      <td>0.818256</td>\n",
       "      <td>0.818256</td>\n",
       "    </tr>\n",
       "    <tr>\n",
       "      <th>XO-4 b</th>\n",
       "      <td>513.610705</td>\n",
       "      <td>0.054850</td>\n",
       "      <td>0.0000</td>\n",
       "      <td>1.550</td>\n",
       "      <td>5700.0</td>\n",
       "      <td>1.320</td>\n",
       "      <td>14.762228</td>\n",
       "      <td>31.782841</td>\n",
       "      <td>31.782841</td>\n",
       "      <td>0.000420</td>\n",
       "      <td>...</td>\n",
       "      <td>0.179372</td>\n",
       "      <td>0.179372</td>\n",
       "      <td>0.050</td>\n",
       "      <td>0.050</td>\n",
       "      <td>70.0</td>\n",
       "      <td>70.0</td>\n",
       "      <td>0.020</td>\n",
       "      <td>0.020</td>\n",
       "      <td>0.325060</td>\n",
       "      <td>0.325060</td>\n",
       "    </tr>\n",
       "    <tr>\n",
       "      <th>XO-5 b</th>\n",
       "      <td>342.301194</td>\n",
       "      <td>0.048700</td>\n",
       "      <td>0.0000</td>\n",
       "      <td>1.060</td>\n",
       "      <td>5510.0</td>\n",
       "      <td>0.880</td>\n",
       "      <td>11.545250</td>\n",
       "      <td>11.759651</td>\n",
       "      <td>11.759651</td>\n",
       "      <td>0.000600</td>\n",
       "      <td>...</td>\n",
       "      <td>0.179372</td>\n",
       "      <td>0.179372</td>\n",
       "      <td>0.050</td>\n",
       "      <td>0.050</td>\n",
       "      <td>44.0</td>\n",
       "      <td>44.0</td>\n",
       "      <td>0.030</td>\n",
       "      <td>0.030</td>\n",
       "      <td>0.560449</td>\n",
       "      <td>0.560449</td>\n",
       "    </tr>\n",
       "    <tr>\n",
       "      <th>XO-6 b</th>\n",
       "      <td>603.873973</td>\n",
       "      <td>0.081500</td>\n",
       "      <td>0.0000</td>\n",
       "      <td>1.930</td>\n",
       "      <td>6720.0</td>\n",
       "      <td>1.470</td>\n",
       "      <td>23.202590</td>\n",
       "      <td>158.914203</td>\n",
       "      <td>158.914203</td>\n",
       "      <td>0.007700</td>\n",
       "      <td>...</td>\n",
       "      <td>0.179372</td>\n",
       "      <td>0.179372</td>\n",
       "      <td>0.180</td>\n",
       "      <td>0.180</td>\n",
       "      <td>100.0</td>\n",
       "      <td>100.0</td>\n",
       "      <td>0.060</td>\n",
       "      <td>0.060</td>\n",
       "      <td>2.465976</td>\n",
       "      <td>2.465976</td>\n",
       "    </tr>\n",
       "    <tr>\n",
       "      <th>XO-7 b</th>\n",
       "      <td>230.743423</td>\n",
       "      <td>0.043290</td>\n",
       "      <td>0.0380</td>\n",
       "      <td>1.480</td>\n",
       "      <td>6000.0</td>\n",
       "      <td>1.405</td>\n",
       "      <td>15.087288</td>\n",
       "      <td>12.077479</td>\n",
       "      <td>12.077479</td>\n",
       "      <td>0.000720</td>\n",
       "      <td>...</td>\n",
       "      <td>0.033000</td>\n",
       "      <td>0.033000</td>\n",
       "      <td>0.022</td>\n",
       "      <td>0.022</td>\n",
       "      <td>450.0</td>\n",
       "      <td>450.0</td>\n",
       "      <td>0.059</td>\n",
       "      <td>0.059</td>\n",
       "      <td>0.224180</td>\n",
       "      <td>0.224180</td>\n",
       "    </tr>\n",
       "  </tbody>\n",
       "</table>\n",
       "<p>938 rows × 21 columns</p>\n",
       "</div>"
      ],
      "text/plain": [
       "                     mass  semi_major_axis  eccentricity  star_radius  \\\n",
       "name                                                                    \n",
       "2M 2140+16 b  6356.568132         3.530000        0.2600        0.100   \n",
       "2M 2206-20 b  9534.852198         4.480000        0.0000        0.110   \n",
       "51 Peg b       149.379351         0.052000        0.0069        1.266   \n",
       "55 Cnc e         8.590902         0.015439        0.0280        0.980   \n",
       "AF Lep b       889.919538         8.200000        0.0400        1.250   \n",
       "...                   ...              ...           ...          ...   \n",
       "XO-3 b        3747.196914         0.045400        0.2600        1.490   \n",
       "XO-4 b         513.610705         0.054850        0.0000        1.550   \n",
       "XO-5 b         342.301194         0.048700        0.0000        1.060   \n",
       "XO-6 b         603.873973         0.081500        0.0000        1.930   \n",
       "XO-7 b         230.743423         0.043290        0.0380        1.480   \n",
       "\n",
       "              star_teff  star_mass     radius  mass_error_min  mass_error_max  \\\n",
       "name                                                                            \n",
       "2M 2140+16 b     2300.0      0.080  10.312262     6356.568132     6356.568132   \n",
       "2M 2206-20 b     2350.0      0.130  14.571675     6356.568132     6356.568132   \n",
       "51 Peg b         5793.0      1.110  21.297063       22.247988       22.247988   \n",
       "55 Cnc e         5196.0      1.015   1.947000        0.429068        0.429068   \n",
       "AF Lep b         6130.0      1.200  14.907944      190.697044      190.697044   \n",
       "...                 ...        ...        ...             ...             ...   \n",
       "XO-3 b           6781.0      1.410  13.641330      187.518760      187.518760   \n",
       "XO-4 b           5700.0      1.320  14.762228       31.782841       31.782841   \n",
       "XO-5 b           5510.0      0.880  11.545250       11.759651       11.759651   \n",
       "XO-6 b           6720.0      1.470  23.202590      158.914203      158.914203   \n",
       "XO-7 b           6000.0      1.405  15.087288       12.077479       12.077479   \n",
       "\n",
       "              semi_major_axis_error_min  ...  eccentricity_error_min  \\\n",
       "name                                     ...                           \n",
       "2M 2140+16 b                   0.150000  ...                0.060000   \n",
       "2M 2206-20 b                   0.400000  ...                0.179372   \n",
       "51 Peg b                       0.007550  ...                0.006600   \n",
       "55 Cnc e                       0.000015  ...                0.019000   \n",
       "AF Lep b                       1.700000  ...                0.400000   \n",
       "...                                 ...  ...                     ...   \n",
       "XO-3 b                         0.000820  ...                0.017000   \n",
       "XO-4 b                         0.000420  ...                0.179372   \n",
       "XO-5 b                         0.000600  ...                0.179372   \n",
       "XO-6 b                         0.007700  ...                0.179372   \n",
       "XO-7 b                         0.000720  ...                0.033000   \n",
       "\n",
       "              eccentricity_error_max  star_radius_error_min  \\\n",
       "name                                                          \n",
       "2M 2140+16 b                0.060000                  0.043   \n",
       "2M 2206-20 b                0.179372                  0.015   \n",
       "51 Peg b                    0.006600                  0.046   \n",
       "55 Cnc e                    0.019000                  0.016   \n",
       "AF Lep b                    0.400000                  0.060   \n",
       "...                              ...                    ...   \n",
       "XO-3 b                      0.017000                  0.080   \n",
       "XO-4 b                      0.179372                  0.050   \n",
       "XO-5 b                      0.179372                  0.050   \n",
       "XO-6 b                      0.179372                  0.180   \n",
       "XO-7 b                      0.033000                  0.022   \n",
       "\n",
       "              star_radius_error_max  star_teff_error_min  star_teff_error_max  \\\n",
       "name                                                                            \n",
       "2M 2140+16 b                  0.043                 80.0                 80.0   \n",
       "2M 2206-20 b                  0.015                 80.0                 80.0   \n",
       "51 Peg b                      0.046                 70.0                 70.0   \n",
       "55 Cnc e                      0.016                 24.0                 24.0   \n",
       "AF Lep b                      0.060                 60.0                 60.0   \n",
       "...                             ...                  ...                  ...   \n",
       "XO-3 b                        0.080                 44.0                 44.0   \n",
       "XO-4 b                        0.050                 70.0                 70.0   \n",
       "XO-5 b                        0.050                 44.0                 44.0   \n",
       "XO-6 b                        0.180                100.0                100.0   \n",
       "XO-7 b                        0.022                450.0                450.0   \n",
       "\n",
       "              star_mass_error_min  star_mass_error_max  radius_error_min  \\\n",
       "name                                                                       \n",
       "2M 2140+16 b                0.060                0.060          4.371502   \n",
       "2M 2206-20 b                0.050                0.050          2.017617   \n",
       "51 Peg b                    0.060                0.060          3.362694   \n",
       "55 Cnc e                    0.051                0.051          0.037998   \n",
       "AF Lep b                    0.060                0.060          6.725388   \n",
       "...                           ...                  ...               ...   \n",
       "XO-3 b                      0.080                0.080          0.818256   \n",
       "XO-4 b                      0.020                0.020          0.325060   \n",
       "XO-5 b                      0.030                0.030          0.560449   \n",
       "XO-6 b                      0.060                0.060          2.465976   \n",
       "XO-7 b                      0.059                0.059          0.224180   \n",
       "\n",
       "              radius_error_max  \n",
       "name                            \n",
       "2M 2140+16 b          4.371502  \n",
       "2M 2206-20 b          2.017617  \n",
       "51 Peg b              3.362694  \n",
       "55 Cnc e              0.037998  \n",
       "AF Lep b              6.725388  \n",
       "...                        ...  \n",
       "XO-3 b                0.818256  \n",
       "XO-4 b                0.325060  \n",
       "XO-5 b                0.560449  \n",
       "XO-6 b                2.465976  \n",
       "XO-7 b                0.224180  \n",
       "\n",
       "[938 rows x 21 columns]"
      ]
     },
     "execution_count": 81,
     "metadata": {},
     "output_type": "execute_result"
    }
   ],
   "source": [
    "dataset_exo"
   ]
  },
  {
   "cell_type": "code",
   "execution_count": null,
   "metadata": {},
   "outputs": [],
   "source": [
    "dataset_exo = dataset_exo.dropna(subset=['mass', 'semi_major_axis',\n",
    "                                             'star_radius', 'star_mass',\n",
    "                                             'star_teff', 'radius'])\n",
    "dataset_solar_system = dataset_solar_system.dropna(subset=['mass',\n",
    "                                                               'semi_major_axis',\n",
    "                                                               'star_radius',\n",
    "                                                               'star_mass',\n",
    "                                                               'star_teff',\n",
    "                                                               'radius'])"
   ]
  },
  {
   "cell_type": "code",
   "execution_count": null,
   "metadata": {},
   "outputs": [],
   "source": [
    "# convert\n"
   ]
  }
 ],
 "metadata": {
  "kernelspec": {
   "display_name": "nn",
   "language": "python",
   "name": "python3"
  },
  "language_info": {
   "codemirror_mode": {
    "name": "ipython",
    "version": 3
   },
   "file_extension": ".py",
   "mimetype": "text/x-python",
   "name": "python",
   "nbconvert_exporter": "python",
   "pygments_lexer": "ipython3",
   "version": "3.9.7"
  }
 },
 "nbformat": 4,
 "nbformat_minor": 2
}
