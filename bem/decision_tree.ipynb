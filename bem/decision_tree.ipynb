{
 "cells": [
  {
   "cell_type": "code",
   "execution_count": 1,
   "id": "initial_id",
   "metadata": {
    "collapsed": true,
    "ExecuteTime": {
     "end_time": "2023-11-07T16:18:47.629922Z",
     "start_time": "2023-11-07T16:18:45.928942Z"
    }
   },
   "outputs": [],
   "source": [
    "import numpy as np\n",
    "import pandas as pd"
   ]
  },
  {
   "cell_type": "markdown",
   "id": "c38c50f1502dfe94",
   "metadata": {
    "collapsed": false
   },
   "source": [
    "# decision tree\n",
    "## Overview\n",
    "A decision tree fundamentally mirrors the architecture of a binary tree. Within this structure, individual nodes are associated with specific features from the dataset. The threshold set at each of these nodes acts as the deciding parameter. a very rudimentary decision tree with just one decision point (the root node) and two possible outcomes or predictions (A or B), and it can be implemented by:"
   ]
  },
  {
   "cell_type": "code",
   "execution_count": 3,
   "id": "d098bd63d9b71567",
   "metadata": {
    "ExecuteTime": {
     "end_time": "2023-11-06T23:41:13.580507Z",
     "start_time": "2023-11-06T23:41:13.442522Z"
    },
    "collapsed": false
   },
   "outputs": [
    {
     "name": "stdout",
     "output_type": "stream",
     "text": [
      "A\n",
      "B\n"
     ]
    }
   ],
   "source": [
    "class DecisionNode:\n",
    "    def __init__(self, feature=None, threshold=None, data=None, true_branch=None, false_branch=None):\n",
    "        self.feature = feature\n",
    "        self.threshold = threshold\n",
    "        self.data = data  # this is the prediction value for leaf nodes\n",
    "        self.true_branch = true_branch\n",
    "        self.false_branch = false_branch\n",
    "\n",
    "    def predict(self, instance):\n",
    "        if self.feature is None:  # indicates it's a leaf node\n",
    "            return self.data\n",
    "\n",
    "        if instance[self.feature] < self.threshold:\n",
    "            return self.true_branch.predict(instance)\n",
    "        else:\n",
    "            return self.false_branch.predict(instance)\n",
    "\n",
    "# Example usage:\n",
    "\n",
    "# Constructing a simple tree for a binary decision on a single feature.\n",
    "# For instance: if feature[0] < 5, predict \"A\", else predict \"B\"\n",
    "root = DecisionNode(feature=0, threshold=5)\n",
    "root.true_branch = DecisionNode(data=\"A\")\n",
    "root.false_branch = DecisionNode(data=\"B\")\n",
    "\n",
    "# Testing\n",
    "instance1 = {0: 3}\n",
    "print(root.predict(instance1))  # Output: A\n",
    "\n",
    "instance2 = {0: 7}\n",
    "print(root.predict(instance2))  # Output: B"
   ]
  },
  {
   "cell_type": "markdown",
   "id": "114f76f61939d167",
   "metadata": {
    "collapsed": false
   },
   "source": [
    "The depth of the decision tree is an important parameter for a tree. While we might predefine the depth of a tree, its exact structure remains undetermined. In essence, the parent-child relationships, which define the tree's structure, can also be viewed as 'parameters' of the tree. The tree doesn't just grow to a fixed depth; it grows based on optimizing the classification of data. To ensure we grow the tree in the most effective manner, we use measures like Gini impurity or entropy. These metrics guide the decision-making process at each node, helping to determine the best feature and threshold to split the data. I will learn the Gini impurity and CART (used in this paper) in the next section."
   ]
  },
  {
   "cell_type": "markdown",
   "id": "be1e4162391c5360",
   "metadata": {
    "collapsed": false
   },
   "source": [
    "## Gini impurity\n",
    "Gini impurity is a measure of how often a randomly chosen element would be incorrectly classified. It provides a way to quantify the disorder or the impurity in a set of items. In the context of decision trees, specifically the CART (Classification and Regression Trees) algorithm, the Gini impurity is used as a criterion to decide the best feature/split at each node.\n",
    "\n",
    "For a **binary** classification:\n",
    "$$\\text{Gini Impurity} = 2p(1-p)$$\n",
    "\n",
    "If there are C classes and $p_{i}$ is the probability of choosing an item from class $i$, then the Gini impurity is given by:\n",
    "$$\\text{Gini Impurity} = 1 - \\sum_{i=1}^{C}p_{i}^{2}$$\n",
    "\n",
    "the function of gini impurity is like the loss function in neural network"
   ]
  },
  {
   "cell_type": "code",
   "execution_count": 4,
   "id": "e9fb7c29f012b269",
   "metadata": {
    "ExecuteTime": {
     "end_time": "2023-11-06T23:41:13.580780Z",
     "start_time": "2023-11-06T23:41:13.472014Z"
    },
    "collapsed": false
   },
   "outputs": [
    {
     "name": "stdout",
     "output_type": "stream",
     "text": [
      "the gini impurity of y_1 is 0.5\n"
     ]
    }
   ],
   "source": [
    "def gini_impurity(y):\n",
    "    m = len(y)\n",
    "    # go through all classes and calculate the prob. for each class\n",
    "    return 1.0 - sum((np.sum(y == c) / m) ** 2 for c in np.unique(y))\n",
    "\n",
    "y_1 = np.array(['A', 'A', 'B', 'B', 'B', 'A'])\n",
    "print(f'the gini impurity of y_1 is {gini_impurity(y_1)}')"
   ]
  },
  {
   "cell_type": "markdown",
   "id": "6807ce506303d7e5",
   "metadata": {
    "collapsed": false
   },
   "source": [
    "## CART algorithm to growing the tree\n",
    "### 1. Initialization:\n",
    "- Start with all data at the root.\n",
    "- Calculate the Gini Impurity for the entire dataset.\n",
    "\n",
    "### 2. Feature Selection for Split:\n",
    "For every feature:\n",
    "   - Sort the data by that feature's values.\n",
    "   - Calculate the Gini Impurity for every possible split.\n",
    "   - Choose the split that gives the maximum reduction in Gini Impurity.\n",
    "\n",
    "\n",
    "A very simple example is showing below:\n",
    "\n",
    "Assume we're trying to classify whether fruits are Apples or Oranges based on their weight and color.\n",
    "\n",
    "| Weight (grams) | Color (0: Green, 1: Orange) | Fruit  |\n",
    "|----------------|-----------------------------|--------|\n",
    "| 180            | 1                           | Orange |\n",
    "| 160            | 0                           | Apple  |\n",
    "| 170            | 1                           | Orange |\n",
    "| 150            | 0                           | Apple  |\n",
    "\n",
    "**Weight Feature Analysis**:\n",
    "- Split at 165 grams:\n",
    "   - Left: 2 Apples\n",
    "   - Right: 2 Oranges\n",
    "   - Gini Reduction = Gini_original - (Gini_left + Gini_right)\n",
    "     $$Gini(original) = 1 - (0.5^{2} + 0.5^{2}) $$\n",
    "     $$Gini(left) = Gini(right) = 0 $$\n",
    "\n",
    "In this example, both the weight and color features perfectly separate the dataset. However, in more complex datasets, some splits will be better than others, and that's where the Gini impurity comes into play: to quantify how good each potential split is. The split that results in the largest reduction in Gini impurity is chosen at each step.\n",
    "\n",
    "**Note**:\n",
    "\n",
    "The process of building a decision tree is **inherently greedy**. At each step, the algorithm makes the locally optimal choice by selecting the split that provides the most immediate reduction in impurity. This does not guarantee a globally optimal tree."
   ]
  },
  {
   "cell_type": "markdown",
   "id": "555717c7adfecda4",
   "metadata": {
    "collapsed": false
   },
   "source": [
    "## Example 1: features are categorical\n",
    "Explore a more complex example and code it.\n",
    "\n",
    "Dataset:\n",
    "\n",
    "Suppose we have a dataset of individuals describing their job type, age category, and whether they bought a specific product. the data can be represented as:\n",
    "\n",
    "| Job      | Age         | Bought |\n",
    "|----------|-------------|--------|\n",
    "| Engineer | Young       | No     |\n",
    "| Engineer | Middle-aged | No     |\n",
    "| Doctor   | Senior      | Yes    |\n",
    "| ...      | ...         | ...    |\n",
    "| Engineer | Middle-aged | Yes    |"
   ]
  },
  {
   "cell_type": "code",
   "execution_count": 5,
   "id": "126edae5f13ffb8b",
   "metadata": {
    "ExecuteTime": {
     "end_time": "2023-11-06T23:41:13.580953Z",
     "start_time": "2023-11-06T23:41:13.492383Z"
    },
    "collapsed": false
   },
   "outputs": [
    {
     "name": "stdout",
     "output_type": "stream",
     "text": [
      "  Occupation          Age  Buy\n",
      "0   Engineer        Young   No\n",
      "1   Engineer  Middle-aged   No\n",
      "2     Doctor       Senior  Yes\n",
      "3     Doctor        Young  Yes\n",
      "4   Engineer       Senior  Yes\n",
      "5     Artist  Middle-aged  Yes\n",
      "6     Artist        Young   No\n",
      "7     Doctor  Middle-aged   No\n",
      "8     Artist       Senior  Yes\n",
      "9   Engineer  Middle-aged  Yes\n"
     ]
    }
   ],
   "source": [
    "data = [[\"Engineer\", \"Young\", \"No\"],\n",
    "    [\"Engineer\", \"Middle-aged\", \"No\"],\n",
    "    [\"Doctor\", \"Senior\", \"Yes\"],\n",
    "    [\"Doctor\", \"Young\", \"Yes\"],\n",
    "    [\"Engineer\", \"Senior\", \"Yes\"],\n",
    "    [\"Artist\", \"Middle-aged\", \"Yes\"],\n",
    "    [\"Artist\", \"Young\", \"No\"],\n",
    "    [\"Doctor\", \"Middle-aged\", \"No\"],\n",
    "    [\"Artist\", \"Senior\", \"Yes\"],\n",
    "    [\"Engineer\", \"Middle-aged\", \"Yes\"]\n",
    "]\n",
    "\n",
    "df = pd.DataFrame(data, columns=[\"Occupation\", \"Age\", \"Buy\"])\n",
    "print(df)"
   ]
  },
  {
   "cell_type": "markdown",
   "id": "e4259248149e5180",
   "metadata": {
    "collapsed": false
   },
   "source": []
  },
  {
   "cell_type": "markdown",
   "id": "bee3954dd4735a6b",
   "metadata": {
    "collapsed": false
   },
   "source": [
    "So first we gonna manually grow the tree, then write the recursive algorithm。"
   ]
  },
  {
   "cell_type": "code",
   "execution_count": 6,
   "id": "7d24203cda1b2ddb",
   "metadata": {
    "ExecuteTime": {
     "end_time": "2023-11-06T23:41:13.581083Z",
     "start_time": "2023-11-06T23:41:13.535880Z"
    },
    "collapsed": false
   },
   "outputs": [
    {
     "name": "stdout",
     "output_type": "stream",
     "text": [
      "the original gini impurity is 0.48\n"
     ]
    }
   ],
   "source": [
    "# the original gini impurity is\n",
    "gini_ori = gini_impurity(df['Buy'])\n",
    "print(f'the original gini impurity is {gini_ori}')"
   ]
  },
  {
   "cell_type": "code",
   "execution_count": 7,
   "id": "7e6d6d6ef036df01",
   "metadata": {
    "ExecuteTime": {
     "end_time": "2023-11-06T23:41:13.581327Z",
     "start_time": "2023-11-06T23:41:13.538655Z"
    },
    "collapsed": false
   },
   "outputs": [
    {
     "data": {
      "text/plain": [
       "0.3"
      ]
     },
     "execution_count": 7,
     "metadata": {},
     "output_type": "execute_result"
    }
   ],
   "source": [
    "np.sum(df['Age'] == 'Young') / len(df)"
   ]
  },
  {
   "cell_type": "code",
   "execution_count": 8,
   "id": "6ca4d108467311c8",
   "metadata": {
    "ExecuteTime": {
     "end_time": "2023-11-06T23:41:13.581785Z",
     "start_time": "2023-11-06T23:41:13.552040Z"
    },
    "collapsed": false
   },
   "outputs": [
    {
     "name": "stdout",
     "output_type": "stream",
     "text": [
      "0.419047619047619 0.06095238095238098\n"
     ]
    }
   ],
   "source": [
    "# if first we split by age:\n",
    "## if split with young and not young\n",
    "feature = 'Young'\n",
    "gini_feature = gini_impurity(df[df[\"Age\"] == feature][\"Buy\"])\n",
    "gini_not_feature = gini_impurity(df[df[\"Age\"] != feature][\"Buy\"])\n",
    "\n",
    "weighed_gini = (np.sum(df['Age'] == feature) / len(df) * gini_feature \n",
    "                + np.sum(df['Age'] != feature) / len(df) * gini_not_feature)\n",
    "print(weighed_gini, gini_ori - weighed_gini)"
   ]
  },
  {
   "cell_type": "code",
   "execution_count": 9,
   "id": "7f0bd99a29006312",
   "metadata": {
    "ExecuteTime": {
     "end_time": "2023-11-06T23:41:13.581977Z",
     "start_time": "2023-11-06T23:41:13.562681Z"
    },
    "collapsed": false
   },
   "outputs": [
    {
     "name": "stdout",
     "output_type": "stream",
     "text": [
      "1.0 0.48\n",
      "0.48 0.0\n"
     ]
    }
   ],
   "source": [
    "## if split with middle-aged or not\n",
    "feature = 'Middel-age'\n",
    "gini_feature = gini_impurity(df[df[\"Age\"] == feature][\"Buy\"])\n",
    "gini_not_feature = gini_impurity(df[df[\"Age\"] != feature][\"Buy\"])\n",
    "print(gini_feature, gini_not_feature)\n",
    "\n",
    "weighed_gini = (np.sum(df['Age'] == feature) / len(df) * gini_feature \n",
    "                + np.sum(df['Age'] != feature) / len(df) * gini_not_feature)\n",
    "print(weighed_gini, gini_ori - weighed_gini)"
   ]
  },
  {
   "cell_type": "code",
   "execution_count": 10,
   "id": "bdd8efd630b50d9f",
   "metadata": {
    "ExecuteTime": {
     "end_time": "2023-11-06T23:41:13.582332Z",
     "start_time": "2023-11-06T23:41:13.566250Z"
    },
    "collapsed": false
   },
   "outputs": [
    {
     "name": "stdout",
     "output_type": "stream",
     "text": [
      "0.0 0.48979591836734704\n",
      "0.3428571428571429 0.13714285714285707\n"
     ]
    }
   ],
   "source": [
    "## if split with senior or not\n",
    "feature = 'Senior'\n",
    "gini_feature = gini_impurity(df[df[\"Age\"] == feature][\"Buy\"])\n",
    "gini_not_feature = gini_impurity(df[df[\"Age\"] != feature][\"Buy\"])\n",
    "print(gini_feature, gini_not_feature)\n",
    "\n",
    "weighed_gini = (np.sum(df['Age'] == feature) / len(df) * gini_feature \n",
    "                + np.sum(df['Age'] != feature) / len(df) * gini_not_feature)\n",
    "print(weighed_gini, gini_ori - weighed_gini)"
   ]
  },
  {
   "cell_type": "code",
   "execution_count": 11,
   "id": "ba056f3b4ff40ba0",
   "metadata": {
    "ExecuteTime": {
     "end_time": "2023-11-06T23:41:13.583335Z",
     "start_time": "2023-11-06T23:41:13.576389Z"
    },
    "collapsed": false
   },
   "outputs": [
    {
     "name": "stdout",
     "output_type": "stream",
     "text": [
      "0.5 0.4444444444444444\n",
      "0.4666666666666667 0.013333333333333308\n"
     ]
    }
   ],
   "source": [
    "# if we split by job\n",
    "## if split by Engineer\n",
    "feature = 'Engineer'\n",
    "gini_feature = gini_impurity(df[df[\"Occupation\"] == feature][\"Buy\"])\n",
    "gini_not_feature = gini_impurity(df[df[\"Occupation\"] != feature][\"Buy\"])\n",
    "print(gini_feature, gini_not_feature)\n",
    "\n",
    "weighed_gini = (np.sum(df['Occupation'] == feature) / len(df) * gini_feature \n",
    "                + np.sum(df['Occupation'] != feature) / len(df) * gini_not_feature)\n",
    "print(weighed_gini, gini_ori - weighed_gini)"
   ]
  },
  {
   "cell_type": "code",
   "execution_count": 12,
   "id": "3360246cfdc6bff8",
   "metadata": {
    "ExecuteTime": {
     "end_time": "2023-11-06T23:41:13.597903Z",
     "start_time": "2023-11-06T23:41:13.583480Z"
    },
    "collapsed": false
   },
   "outputs": [
    {
     "name": "stdout",
     "output_type": "stream",
     "text": [
      "0.4444444444444444 0.48979591836734704\n",
      "0.4761904761904763 0.003809523809523707\n"
     ]
    }
   ],
   "source": [
    "## if split by Doctor\n",
    "feature = 'Doctor'\n",
    "gini_feature = gini_impurity(df[df[\"Occupation\"] == feature][\"Buy\"])\n",
    "gini_not_feature = gini_impurity(df[df[\"Occupation\"] != feature][\"Buy\"])\n",
    "print(gini_feature, gini_not_feature)\n",
    "\n",
    "weighed_gini = (np.sum(df['Occupation'] == feature) / len(df) * gini_feature \n",
    "                + np.sum(df['Occupation'] != feature) / len(df) * gini_not_feature)\n",
    "print(weighed_gini, gini_ori - weighed_gini)"
   ]
  },
  {
   "cell_type": "code",
   "execution_count": 13,
   "id": "c4ce62e01ea6a4c7",
   "metadata": {
    "ExecuteTime": {
     "end_time": "2023-11-06T23:41:13.602659Z",
     "start_time": "2023-11-06T23:41:13.589875Z"
    },
    "collapsed": false
   },
   "outputs": [
    {
     "name": "stdout",
     "output_type": "stream",
     "text": [
      "0.4444444444444444 0.48979591836734704\n",
      "0.4761904761904763 0.003809523809523707\n"
     ]
    }
   ],
   "source": [
    "## if split by Doctor\n",
    "feature = 'Artist'\n",
    "gini_feature = gini_impurity(df[df[\"Occupation\"] == feature][\"Buy\"])\n",
    "gini_not_feature = gini_impurity(df[df[\"Occupation\"] != feature][\"Buy\"])\n",
    "print(gini_feature, gini_not_feature)\n",
    "\n",
    "weighed_gini = (np.sum(df['Occupation'] == feature) / len(df) * gini_feature \n",
    "                + np.sum(df['Occupation'] != feature) / len(df) * gini_not_feature)\n",
    "print(weighed_gini, gini_ori - weighed_gini)"
   ]
  },
  {
   "cell_type": "markdown",
   "id": "21d63a33826dae05",
   "metadata": {
    "collapsed": false
   },
   "source": [
    "therefore we split all feature in round 1, and then we have the all the diff of gini, then obviously, the first feature we should pick is \"Senior\". I will not go through the whole tree. Let's write the code method now."
   ]
  },
  {
   "cell_type": "code",
   "execution_count": 15,
   "id": "aeb266ccb5aa6ffb",
   "metadata": {
    "ExecuteTime": {
     "end_time": "2023-11-06T23:41:13.705833Z",
     "start_time": "2023-11-06T23:41:13.599458Z"
    },
    "collapsed": false
   },
   "outputs": [],
   "source": [
    "class DecisionTree:\n",
    "    def __init__(self, max_depth=None):\n",
    "        self.max_depth = max_depth\n",
    "        self.tree = {}\n",
    "\n",
    "    def try_split(self, X, y, feature_index, value):\n",
    "        left_mask = (X[:, feature_index] == value)\n",
    "        right_mask = (X[:, feature_index] != value)\n",
    "        left_impurity = gini_impurity(y[left_mask])\n",
    "        right_impurity = gini_impurity(y[right_mask])\n",
    "        return left_impurity, right_impurity, left_mask, right_mask\n",
    "\n",
    "    def best_split(self, X, y):\n",
    "        m, n = X.shape\n",
    "        best_gain = 0\n",
    "        best_feature_index = None\n",
    "        best_value = None\n",
    "        best_masks = None\n",
    "        parent_impurity = gini_impurity(y)\n",
    "\n",
    "        for feature_index in range(n):\n",
    "            values = np.unique(X[:, feature_index])\n",
    "            for value in values:\n",
    "                left_impurity, right_impurity, left_mask, right_mask = self.try_split(\n",
    "                    X, y, feature_index, value)\n",
    "                gain = parent_impurity - (\n",
    "                            left_impurity * left_mask.sum() + right_impurity * right_mask.sum()) / m\n",
    "                if gain > best_gain:\n",
    "                    best_gain = gain\n",
    "                    best_feature_index = feature_index\n",
    "                    best_value = value\n",
    "                    best_masks = (left_mask, right_mask)\n",
    "        return best_feature_index, best_value, best_masks\n",
    "\n",
    "    def build_tree(self, X, y, depth=0):\n",
    "        num_samples_per_class, num_samples = np.unique(y, return_counts=True)\n",
    "        if len(num_samples_per_class) == 1 or (self.max_depth is not None and depth == self.max_depth):\n",
    "            # Return the majority class directly using counts\n",
    "            majority_class_index = np.argmax(num_samples)\n",
    "            return num_samples_per_class[majority_class_index]\n",
    "        else:\n",
    "            idx, val, masks = self.best_split(X, y)\n",
    "            if idx is None:  # No split was found\n",
    "                majority_class_index = np.argmax(num_samples)\n",
    "                return num_samples_per_class[majority_class_index]\n",
    "\n",
    "            left_mask, right_mask = masks\n",
    "            left = self.build_tree(X[left_mask], y[left_mask], depth + 1)\n",
    "            right = self.build_tree(X[right_mask], y[right_mask], depth + 1)\n",
    "            return (idx, val, left, right)\n",
    "\n",
    "    def fit(self, X, y):\n",
    "        self.tree = self.build_tree(X, y)\n",
    "\n",
    "    def _predict_one(self, inputs):\n",
    "        node = self.tree\n",
    "        while isinstance(node, tuple):\n",
    "            idx, val, left, right = node\n",
    "            node = left if inputs[idx] == val else right\n",
    "        return node\n",
    "\n",
    "    def predict(self, X):\n",
    "        return np.array([self._predict_one(inputs) for inputs in X])"
   ]
  },
  {
   "cell_type": "code",
   "execution_count": 16,
   "id": "8e3cc4ff6105fcae",
   "metadata": {
    "ExecuteTime": {
     "end_time": "2023-11-06T23:41:13.734234Z",
     "start_time": "2023-11-06T23:41:13.606855Z"
    },
    "collapsed": false
   },
   "outputs": [],
   "source": [
    "# format our dataset\n",
    "data_number = np.array([\n",
    "    [0, 0],\n",
    "    [0, 1],\n",
    "    [1, 2],\n",
    "    [1, 0],\n",
    "    [0, 2],\n",
    "    [2, 1],\n",
    "    [2, 0],\n",
    "    [1, 1],\n",
    "    [2, 2],\n",
    "    [0, 1],\n",
    "])\n",
    "# Labels\n",
    "labels = np.array([0, 0, 1, 1, 1, 1, 0, 0, 1, 1])"
   ]
  },
  {
   "cell_type": "code",
   "execution_count": 19,
   "id": "13e6f903862a7ab7",
   "metadata": {
    "ExecuteTime": {
     "end_time": "2023-11-06T23:41:13.734406Z",
     "start_time": "2023-11-06T23:41:13.610084Z"
    },
    "collapsed": false
   },
   "outputs": [
    {
     "name": "stdout",
     "output_type": "stream",
     "text": [
      "[0 0 1 0 1 0 0 0 1 0]\n",
      "[0 0 1 1 1 1 0 0 1 1]\n"
     ]
    }
   ],
   "source": [
    "dt = DecisionTree(max_depth=10)\n",
    "# print(dt.best_split(data_number, labels))\n",
    "\n",
    "dt.fit(data_number, labels)\n",
    "print(dt.predict(data_number))\n",
    "print(labels)"
   ]
  },
  {
   "cell_type": "markdown",
   "metadata": {},
   "source": [
    "## Example 2: Features are numarical"
   ],
   "id": "60b47e469e828ec7"
  },
  {
   "cell_type": "code",
   "execution_count": 2,
   "metadata": {
    "ExecuteTime": {
     "end_time": "2023-11-07T16:18:54.515788Z",
     "start_time": "2023-11-07T16:18:53.645133Z"
    }
   },
   "outputs": [
    {
     "data": {
      "text/plain": "<Figure size 1000x600 with 1 Axes>",
      "image/png": "[encoded data removed]"
     },
     "metadata": {},
     "output_type": "display_data"
    }
   ],
   "source": [
    "# first we gonna generate a dataset\n",
    "import matplotlib.pyplot as plt\n",
    "\n",
    "# Seed the random number generator for reproducibility\n",
    "np.random.seed(42)\n",
    "\n",
    "# Number of samples\n",
    "n_samples = 100\n",
    "\n",
    "# Generate random points for class 0\n",
    "class_0 = np.random.normal(0, 0.5, (n_samples // 2, 2))\n",
    "\n",
    "# Generate random points for class 1\n",
    "class_1 = np.random.normal(1, 0.5, (n_samples // 2, 2))\n",
    "\n",
    "# Concatenate the points to form the feature set\n",
    "X = np.vstack((class_0, class_1))\n",
    "\n",
    "# Generate the labels\n",
    "y = np.array([0] * (n_samples // 2) + [1] * (n_samples // 2))\n",
    "\n",
    "# Plot the dataset\n",
    "plt.figure(figsize=(10, 6))\n",
    "plt.scatter(X[y == 0][:, 0], X[y == 0][:, 1], color='red', label='Class 0')\n",
    "plt.scatter(X[y == 1][:, 0], X[y == 1][:, 1], color='blue', label='Class 1')\n",
    "plt.title('Synthetic Binary Classification Dataset')\n",
    "plt.xlabel('Feature 1')\n",
    "plt.ylabel('Feature 2')\n",
    "plt.legend()\n",
    "plt.show()"
   ],
   "id": "3f90ba565bf44f06"
  },
  {
   "cell_type": "code",
   "execution_count": 4,
   "outputs": [],
   "source": [
    "import numpy as np\n",
    "\n",
    "\n",
    "def gini_impurity(y):\n",
    "    m = len(y)\n",
    "    return 1.0 - sum((np.sum(y == c) / m) ** 2 for c in np.unique(y))\n",
    "\n",
    "\n",
    "class DecisionTree:\n",
    "    def __init__(self, max_depth=None):\n",
    "        self.max_depth = max_depth\n",
    "        self.tree = None\n",
    "\n",
    "    def try_split(self, X, y, feature_index):\n",
    "        # Sort the data along the feature\n",
    "        sorted_indices = X[:, feature_index].argsort()\n",
    "        X_sorted, y_sorted = X[sorted_indices], y[sorted_indices]\n",
    "        \n",
    "        # Now we need to find the best split\n",
    "        best_gain = 0\n",
    "        best_split = None\n",
    "        best_value = None\n",
    "        parent_impurity = gini_impurity(y)\n",
    "        m = len(y)\n",
    "\n",
    "        for i in range(1, m):  # We start at 1, because we need to split at least one element to the left\n",
    "            if X_sorted[i, feature_index] != X_sorted[i - 1, feature_index]:\n",
    "                left_impurity = gini_impurity(y_sorted[:i])\n",
    "                right_impurity = gini_impurity(y_sorted[i:])\n",
    "                gain = parent_impurity - (left_impurity * i + right_impurity * (m - i)) / m\n",
    "                if gain > best_gain:\n",
    "                    best_gain = gain\n",
    "                    best_split = i\n",
    "                    best_value = (X_sorted[i, feature_index] + X_sorted[i - 1, feature_index]) / 2  # Midpoint\n",
    "\n",
    "        return best_gain, best_value\n",
    "\n",
    "    def build_tree(self, X, y, depth=0):\n",
    "        num_samples_per_class, num_samples = np.unique(y, return_counts=True)\n",
    "        if len(num_samples_per_class) == 1 or (self.max_depth is not None and depth == self.max_depth):\n",
    "            majority_class_index = np.argmax(num_samples)\n",
    "            return num_samples_per_class[majority_class_index]\n",
    "        else:\n",
    "            best_gain = 0\n",
    "            best_idx = None\n",
    "            best_value = None\n",
    "            for feature_index in range(X.shape[1]):\n",
    "                gain, value = self.try_split(X, y, feature_index)\n",
    "                if gain > best_gain:\n",
    "                    best_gain = gain\n",
    "                    best_idx = feature_index\n",
    "                    best_value = value\n",
    "            \n",
    "            if best_gain == 0:\n",
    "                majority_class_index = np.argmax(num_samples)\n",
    "                return num_samples_per_class[majority_class_index]\n",
    "\n",
    "            # Split the dataset and recurse on each child\n",
    "            left_mask = X[:, best_idx] < best_value\n",
    "            right_mask = ~left_mask\n",
    "            left = self.build_tree(X[left_mask], y[left_mask], depth + 1)\n",
    "            right = self.build_tree(X[right_mask], y[right_mask], depth + 1)\n",
    "            return (best_idx, best_value, left, right)\n",
    "\n",
    "    def fit(self, X, y):\n",
    "        self.tree = self.build_tree(X, y)\n",
    "\n",
    "    def _predict_one(self, inputs):\n",
    "        node = self.tree\n",
    "        while isinstance(node, tuple):\n",
    "            feature_index, value, left, right = node\n",
    "            node = left if inputs[feature_index] < value else right\n",
    "        return node\n",
    "\n",
    "    def predict(self, X):\n",
    "        return np.array([self._predict_one(inputs) for inputs in X])\n",
    "\n",
    "\n",
    "# Example usage with numerical features\n",
    "if __name__ == '__main__':\n",
    "    # Assuming data_number is your dataset with numerical features\n",
    "    # Assuming labels is your target variable\n",
    "\n",
    "    dt = DecisionTree(max_depth=3)\n",
    "    dt.fit(X, y)\n",
    "    predictions = dt.predict(X)"
   ],
   "metadata": {
    "collapsed": false,
    "ExecuteTime": {
     "end_time": "2023-11-07T16:20:14.301796Z",
     "start_time": "2023-11-07T16:20:14.273856Z"
    }
   },
   "id": "fc88e97f386fddca"
  },
  {
   "cell_type": "code",
   "execution_count": 5,
   "outputs": [
    {
     "data": {
      "text/plain": "<Figure size 640x480 with 1 Axes>",
      "image/png": "[encoded data removed]"
     },
     "metadata": {},
     "output_type": "display_data"
    }
   ],
   "source": [
    "def plot_decision_boundary(clf, X, y):\n",
    "    # Plotting ranges\n",
    "    x_min, x_max = X[:, 0].min() - 1, X[:, 0].max() + 1\n",
    "    y_min, y_max = X[:, 1].min() - 1, X[:, 1].max() + 1\n",
    "    xx, yy = np.meshgrid(np.arange(x_min, x_max, 0.1),\n",
    "                         np.arange(y_min, y_max, 0.1))\n",
    "\n",
    "    # Predictions to obtain the decision boundary\n",
    "    Z = clf.predict(np.c_[xx.ravel(), yy.ravel()])\n",
    "    Z = Z.reshape(xx.shape)\n",
    "\n",
    "    # Plot the contour and training points\n",
    "    plt.contourf(xx, yy, Z, alpha=0.4)\n",
    "    plt.scatter(X[:, 0], X[:, 1], c=y, s=20, edgecolor='k')\n",
    "    plt.title(\"Decision Boundary\")\n",
    "    plt.xlabel('Feature 1')\n",
    "    plt.ylabel('Feature 2')\n",
    "\n",
    "# ... (previous code for generating dataset and training model)\n",
    "\n",
    "# Plot the decision boundary\n",
    "plot_decision_boundary(dt, X, y)\n",
    "plt.show()"
   ],
   "metadata": {
    "collapsed": false,
    "ExecuteTime": {
     "end_time": "2023-11-07T16:23:00.238100Z",
     "start_time": "2023-11-07T16:23:00.119605Z"
    }
   },
   "id": "c19881178086ba8c"
  },
  {
   "cell_type": "code",
   "execution_count": null,
   "outputs": [],
   "source": [],
   "metadata": {
    "collapsed": false
   },
   "id": "f42c6b1aa7e6b978"
  }
 ],
 "metadata": {
  "kernelspec": {
   "display_name": "Python 3",
   "language": "python",
   "name": "python3"
  },
  "language_info": {
   "codemirror_mode": {
    "name": "ipython",
    "version": 3
   },
   "file_extension": ".py",
   "mimetype": "text/x-python",
   "name": "python",
   "nbconvert_exporter": "python",
   "pygments_lexer": "ipython3",
   "version": "3.9.7"
  }
 },
 "nbformat": 4,
 "nbformat_minor": 5
}
