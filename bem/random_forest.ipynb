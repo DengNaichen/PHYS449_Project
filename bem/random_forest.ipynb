{
 "cells": [
  {
   "cell_type": "code",
   "execution_count": 1,
   "id": "initial_id",
   "metadata": {
    "ExecuteTime": {
     "end_time": "2023-11-07T16:21:47.784332Z",
     "start_time": "2023-11-07T16:21:47.096604Z"
    },
    "collapsed": true
   },
   "outputs": [],
   "source": [
    "import numpy as np\n",
    "import sklearn"
   ]
  },
  {
   "cell_type": "code",
   "execution_count": 2,
   "id": "4e0cd0fc65e06581",
   "metadata": {
    "ExecuteTime": {
     "end_time": "2023-11-07T16:25:13.872410Z",
     "start_time": "2023-11-07T16:25:13.866747Z"
    },
    "collapsed": false
   },
   "outputs": [],
   "source": [
    "# Assume we understand how a decision tree works and how to code it. for now on, the sk-learn will be used to build the decision tree(it have the random forest algorithm as well, but we will start from decision tree and to learn how the random forest work)\n",
    "# and we will use the real project dataset in this file"
   ]
  },
  {
   "cell_type": "code",
   "execution_count": null,
   "id": "510eb5e4e4c790f5",
   "metadata": {
    "collapsed": false
   },
   "outputs": [],
   "source": []
  }
 ],
 "metadata": {
  "kernelspec": {
   "display_name": "Python 3",
   "language": "python",
   "name": "python3"
  },
  "language_info": {
   "codemirror_mode": {
    "name": "ipython",
    "version": 3
   },
   "file_extension": ".py",
   "mimetype": "text/x-python",
   "name": "python",
   "nbconvert_exporter": "python",
   "pygments_lexer": "ipython3",
   "version": "3.9.7"
  }
 },
 "nbformat": 4,
 "nbformat_minor": 5
}
